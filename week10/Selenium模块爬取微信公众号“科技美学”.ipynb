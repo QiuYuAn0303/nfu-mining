{
 "cells": [
  {
   "cell_type": "markdown",
   "metadata": {},
   "source": [
    "# Selenium模块爬取微信公众号“科技美学”"
   ]
  },
  {
   "cell_type": "markdown",
   "metadata": {},
   "source": [
    "## PRD1数据加值宣言\n"
   ]
  },
  {
   "cell_type": "markdown",
   "metadata": {},
   "source": [
    "## 本项目产出自以Python+Selenium模块对微信公众号“科技美学”的所有发布文章（*共124页，4681篇文章*）的时间，标题，以及文章url进行爬取挖掘的数据。以解决对该微信公众号进行相关内容分析的需求。\n",
    "\n",
    "* 关键词：科技美学\n",
    "* 页数：所有(1—124)\n",
    "* 类别数据： 文章标题，发布时间，url"
   ]
  },
  {
   "cell_type": "markdown",
   "metadata": {},
   "source": [
    "## PRD2数据加值"
   ]
  },
  {
   "cell_type": "markdown",
   "metadata": {},
   "source": [
    "产品核心价值：通过分析“科技美学”一公众号的发布内容，获取科技参产品潮流走向的新资讯，以词频分析来筛选关键词进行分析。"
   ]
  },
  {
   "cell_type": "markdown",
   "metadata": {},
   "source": [
    "依本产品总结：\n",
    " 1.品牌仍是大多数消费者关心的话题。\n",
    " 2.智能是科技产品发展的一个重要的方向。\n",
    " 3.品牌，未来，微信是公众号中最常出现的词汇."
   ]
  },
  {
   "cell_type": "markdown",
   "metadata": {},
   "source": [
    "# 挖掘公众号的基本信息"
   ]
  },
  {
   "cell_type": "markdown",
   "metadata": {},
   "source": [
    "* 名称：科技美学\n",
    "\n",
    "* 类别：智能产品相关\n",
    "\n",
    "* 文章数目：4681\n",
    "\n",
    "* 内容类型：智能，微信平台，手机评测"
   ]
  },
  {
   "cell_type": "markdown",
   "metadata": {},
   "source": [
    "# 准备工作"
   ]
  },
  {
   "cell_type": "code",
   "execution_count": 1,
   "metadata": {},
   "outputs": [],
   "source": [
    "'''\n",
    "阿里研究院\n",
    "阿里健康\n",
    "阿里巴巴商学院\n",
    "阿里数据\n",
    "\n",
    "腾讯金融科技\n",
    "腾讯研究院\n",
    "腾讯媒体研究院\n",
    "腾讯云启研究院\n",
    "酷鹅用户研究院\n",
    "'''\n",
    "公众号 = \"科技美学\""
   ]
  },
  {
   "cell_type": "code",
   "execution_count": 2,
   "metadata": {},
   "outputs": [],
   "source": [
    "fn = { \"output\" : { \"公众号_htm_snippets\": \"data_raw_src/公众号_htm_snippets_{公众号}.tsv\",\n",
    "                    \"公众号_df\": \"data_raw_src/公众号_df_{公众号}.tsv\",\n",
    "                    \"公众号_xlsx\": \"data_sets/公众号_url_{公众号}.xlsx\" } \\\n",
    "      }"
   ]
  },
  {
   "cell_type": "markdown",
   "metadata": {},
   "source": [
    "# 采集公众号（requests）"
   ]
  },
  {
   "cell_type": "code",
   "execution_count": 4,
   "metadata": {},
   "outputs": [
    {
     "name": "stdout",
     "output_type": "stream",
     "text": [
      "0\n",
      "5\n",
      "10\n",
      "15\n",
      "20\n"
     ]
    }
   ],
   "source": [
    "# 目标url\n",
    "\n",
    "import time\n",
    "import requests\n",
    "import pandas as pd\n",
    "import csv\n",
    "\n",
    "\n",
    "url = \"https://mp.weixin.qq.com/cgi-bin/appmsg\"\n",
    "\n",
    "# 使用Cookie，跳过登陆操作\n",
    "headers = {\n",
    "  \"Cookie\": \"pgv_pvi=7705689088; RK=39wNdIIIWH; ptcz=c9ed2f1df26da043a3f754b55d2acc0ab8c857ee90757bbd4c879ad9130a784e; pgv_pvid=3161331724; tvfe_boss_uuid=49571640e7c885f1; qb_qua=; qb_guid=8174e26bd6e048358153a7a436248266; Q-H5-GUID=8174e26bd6e048358153a7a436248266; NetType=; ua_id=9Z7DTV8mTtpesGXTAAAAAByzhrHu9cp_Ig2tmlMgoqo=; wxuin=68118704464838; mm_lang=zh_CN; XWINDEXGREY=0; o_cookie=1833794319; pac_uid=1_1833794319; ied_qq=o1833794319; LW_uid=t1B568k5C652a7y4C2B1X9A3P1; pgg_uid=761711591; pgg_appid=101503919; pgg_openid=3F319D6E7798CE2872C0D10FE26B44EA; pgg_access_token=917FD3776C3EDF293412786E6512B123; pgg_type=1; pgg_user_type=5; eas_sid=q1S5p8F6L8Q7B4n1m1p523L8P0; LW_sid=k1o5a836j8K7s4f5K5h2D5e0p5; luin=o1833794319; lskey=000100003898460b2c356af479903ae7dbe4e94c93a67beb02a986d8db61b2c0d0d0c02c31a0271cc3b5aac6; noticeLoginFlag=1; ts_uid=880762048; ptui_loginuin=1833794319; pgv_si=s1782607872; uin=o1833794319; skey=@eCEevfKM6; _qpsvr_localtk=1589759643000; cert=tMEKlZMe4cyXPRHby_qbWRW9q_RDMnAC; openid2ticket_oZ6AF5pZ3MoLeR1ZmbIyOekN2Q50=sjsOrV6wYyiZSkwKzzn+nEmrX1e2VFhRQ52prv/3yYo=; sig=h01acd0547d273930e39a3a48f12395102be654e7784ee87cfe789b7734efb25f7c6a63266c7881cfcd; uuid=c31806352408d4e9f07d59844e808420; bizuin=3097070366; ticket=2218f2a2c04a40b258247073058e695142081577; ticket_id=gh_2eda5f9b5a19; rand_info=CAESIM0KJabcUPRpNUgqYtmsUXZJZ7EovZ5ey+w3KVbu/Yk7; slave_bizuin=3097070366; data_bizuin=3097070366; data_ticket=mkEBnffTsaTo+0fxRCJriLT9BxmE7MsGe/1a/2An3BEHKggZcl91ioxYlotnMS6t; slave_sid=YnE1YzFra3V0RkZ2MEJhNUNxX2FqQWplQjZvSlYxTUNuSGZkblFZek9CYlpwdXlPWjBCSTJITHNaS2lDS3hzaHdTc29PV3hIVmpDOHpLeDZNWWhiSkFPa014ZlpVOWx1YmJuQnRWV2NFTVRDVnFlU29MUUp6QmZKeHVlUDZRVERxTnVRRnRidzNXTXJoZ1ZD; slave_user=gh_2eda5f9b5a19; xid=23cc1ee5e5a0f885529a7c9d25715fcf; openid2ticket_oHouZuHTYN1-mkNpEmUzS_BYRQtU=IQkZUOxikZ3vdKSJV1765EQj1vi+1hWuqcT4bPZiaOo=\",\n",
    "  \"User-Agent\": \"Mozilla/5.0 (Windows NT 10.0; Win64; x64) AppleWebKit/537.36 (KHTML, like Gecko) Chrome/81.0.4044.138 Safari/537.36\"}\n",
    "\n",
    "data = {\n",
    "    \"token\": \"1934949617\",\n",
    "    \"lang\": \"zh_CN\",\n",
    "    \"f\": \"json\",\n",
    "    \"ajax\": \"1\",\n",
    "    \"action\": \"list_ex\",\n",
    "    \"begin\": \"0\",\n",
    "    \"count\": \"5\",\n",
    "    \"query\": \"\",\n",
    "    \"fakeid\": \"MjM5MDQ4MzU5NQ==\",\n",
    "    \"type\": \"9\",\n",
    "}\n",
    "\n",
    "\n",
    "\n",
    "content_list=[]\n",
    "\n",
    "for i in range(5):\n",
    "    data[\"begin\"] = i*5\n",
    "    print(data[\"begin\"])\n",
    "    time.sleep(3)\n",
    "    # 使用get方法进行提交\n",
    "    content_json = requests.get(url, headers=headers, params=data).json()\n",
    "#     print(content_json)\n",
    "    # 返回了一个json，里面是每一页的数据\n",
    "    for item in content_json[\"app_msg_list\"]:\n",
    "    # 提取每页文章的标题及对应的url\n",
    "        items = []\n",
    "        items.append(item[\"title\"])\n",
    "        items.append(item[\"link\"])\n",
    "        items.append(item[\"create_time\"])\n",
    "        content_list.append(items)\n",
    "\n",
    "\n",
    "name=['title','link','create_time']\n",
    "test=pd.DataFrame(columns=name,data=content_list)\n",
    "with pd.ExcelWriter(fn[\"output\"][\"公众号_xlsx\"].format(公众号=\"科技美学_requests\")) as writer:\n",
    "    test.to_excel(writer)\n",
    "\n",
    "# test.to_csv(\"../微信公众号爬虫_zhichao/南方周末.csv\",mode='a',encoding='utf-8')\n",
    "# print(\"保存成功\")"
   ]
  },
  {
   "cell_type": "markdown",
   "metadata": {},
   "source": [
    "# 采集公众号（selenium）"
   ]
  },
  {
   "cell_type": "code",
   "execution_count": 5,
   "metadata": {},
   "outputs": [],
   "source": [
    "import pandas as pd\n",
    "import numpy as np\n",
    "from lxml.html import fromstring\n",
    "import time\n",
    "from random import random\n",
    "\n",
    "# when selenium main_content is used\n",
    "# Parses an HTML document from a string constant.  Returns the root nood\n",
    "# root = fromstring(df.loc[1,\"html_snippets\"]) "
   ]
  },
  {
   "cell_type": "markdown",
   "metadata": {},
   "source": [
    "## 使用Selenium\n",
    "* 要更改 opts.binary_location 至自己本地的Chrome浏览器，建议portable\n",
    "* Chrome浏览器 和 chromedriver.exe要同版本号到小数后一位\n",
    "* 要确保可以 开启浏览器机器人\n",
    "* 要确保浏览器机器人 可以打开网页 driver.get(\"https://mp.weixin.qq.com\")"
   ]
  },
  {
   "cell_type": "code",
   "execution_count": 6,
   "metadata": {},
   "outputs": [
    {
     "name": "stderr",
     "output_type": "stream",
     "text": [
      "C:\\ProgramData\\Anaconda3\\lib\\site-packages\\ipykernel_launcher.py:18: DeprecationWarning: use options instead of chrome_options\n"
     ]
    }
   ],
   "source": [
    "from selenium import webdriver\n",
    "from selenium.webdriver.common.desired_capabilities import DesiredCapabilities\n",
    "\n",
    "#caps=dict()\n",
    "#caps[\"pageLoadStrategy\"] = \"none\"   # Do not wait for full page load\n",
    "\n",
    "opts = webdriver.ChromeOptions()\n",
    "opts.add_argument('--no-sandbox')#解决DevToolsActivePort文件不存在的报错\n",
    "opts.add_argument('window-size=1920x3000') #指定浏览器分辨率\n",
    "opts.add_argument('--disable-gpu') #谷歌文档提到需要加上一这个属性来规避bug\n",
    "opts.add_argument('--hide-scrollbars') #隐藏滚动条, 应对些特殊页面\n",
    "#opts.add_argument('blink-settings=imagesEnabled=false') #不加载图片, 提升速度\n",
    "#opts.add_argument('--headless') #浏览器不提供可视化页面. linux下如果系统不支持可视化不加这条会启动失败\n",
    "\n",
    "opts.binary_location = r\"C:\\Program Files (x86)\\Google\\Chrome\\Application\\chrome.exe\" #\"H:\\_coding_\\Gitee\\InternetNewMedia\\CapstonePrj2016\\chromedriver.exe\"  \n",
    "\n",
    "# \"H:\\_coding_\\Gitee\\InternetNewMedia\\CapstonePrj2016\\chromedriver.exe\"  \n",
    "driver = webdriver.Chrome( chrome_options = opts) #desired_capabilities=caps,"
   ]
  },
  {
   "cell_type": "code",
   "execution_count": 7,
   "metadata": {},
   "outputs": [],
   "source": [
    "driver.get(\"https://mp.weixin.qq.com\")"
   ]
  },
  {
   "cell_type": "markdown",
   "metadata": {},
   "source": [
    "## 填表登入"
   ]
  },
  {
   "cell_type": "markdown",
   "metadata": {},
   "source": [
    "selenium 的定位方法\n",
    "* find_element_by_id &ensp;&ensp;&ensp;  根据标签id定位\n",
    "* find_element_by_name   &ensp;&ensp;&ensp; 根据标签的name定位\n",
    "* find_element_by_xpath  &ensp;&ensp;&ensp; 根据xpath定位\n",
    "* find_element_by_link_text  &ensp;&ensp;&ensp; 通过文字链接来定位元素\n",
    "* find_element_by_partial_link_text  &ensp;&ensp;&ensp;  通过文字链接来定位元素\n",
    "* find_element_by_tag_name  &ensp;&ensp;&ensp;  根据标签的名字定位\n",
    "* find_element_by_class_name  &ensp;&ensp;&ensp; 通过class name 定位\n",
    "* find_element_by_css_selector  &ensp;&ensp;&ensp;  根据元素属性来定位"
   ]
  },
  {
   "cell_type": "code",
   "execution_count": 8,
   "metadata": {},
   "outputs": [],
   "source": [
    "payload =  {\"account\": \"1833794319@qq.com\", \"password\": \"QE688116we***\"}\n",
    "# payload =  {\"account\": \"NFUHacks@163.com\", \"password\": \"NFU706947580\"}\n",
    "driver.find_element_by_xpath('//div[@class=\"login__type__container login__type__container__scan\"]/a').click()"
   ]
  },
  {
   "cell_type": "markdown",
   "metadata": {},
   "source": [
    "WebDriver 常用方法：\n",
    "* clear()清楚文本\n",
    "* send_keys(values)模拟按键输入\n",
    "* click()模拟点击\n",
    "* submit模拟提交"
   ]
  },
  {
   "cell_type": "code",
   "execution_count": 9,
   "metadata": {},
   "outputs": [],
   "source": [
    "driver.find_element_by_xpath('//form[@class=\"login_form\"]//input[@name=\"account\"]').clear()\n",
    "driver.find_element_by_xpath('//form[@class=\"login_form\"]//input[@name=\"account\"]').send_keys(payload['account'])\n",
    "driver.find_element_by_xpath('//form[@class=\"login_form\"]//input[@name=\"password\"]').clear()\n",
    "driver.find_element_by_xpath('//form[@class=\"login_form\"]//input[@name=\"password\"]').send_keys(payload['password'])"
   ]
  },
  {
   "cell_type": "code",
   "execution_count": 10,
   "metadata": {},
   "outputs": [],
   "source": [
    "driver.find_element_by_xpath('//div[@class=\"login_btn_panel\"]/a').click()"
   ]
  },
  {
   "cell_type": "markdown",
   "metadata": {},
   "source": [
    "## 点选单"
   ]
  },
  {
   "cell_type": "markdown",
   "metadata": {},
   "source": [
    "其他常用方法\n",
    "* size：返回元素的尺寸\n",
    "* text：获取元素的文本\n",
    "* get_attribute：获取属性值  &ensp;&ensp;&ensp; get_attribute('innerHTML')获取元素内的全部HTML\n",
    "* is_displayed()：设置该元素用户是否可见"
   ]
  },
  {
   "cell_type": "code",
   "execution_count": 11,
   "metadata": {},
   "outputs": [
    {
     "data": {
      "text/plain": [
       "'展开'"
      ]
     },
     "execution_count": 11,
     "metadata": {},
     "output_type": "execute_result"
    }
   ],
   "source": [
    "element = driver.find_element_by_xpath('//a[@id=\"m_open\"]')\n",
    "element.click()\n",
    "main_content = element.get_attribute('innerHTML')\n",
    "main_content"
   ]
  },
  {
   "cell_type": "code",
   "execution_count": 12,
   "metadata": {},
   "outputs": [],
   "source": [
    "driver.execute_script(\"window.scrollTo(0,document.body.scrollHeight)\")"
   ]
  },
  {
   "cell_type": "code",
   "execution_count": 13,
   "metadata": {},
   "outputs": [
    {
     "data": {
      "text/plain": [
       "'https://mp.weixin.qq.com/cgi-bin/appmsg?begin=0&count=10&t=media/appmsg_list&type=10&action=list&token=1775277227&lang=zh_CN'"
      ]
     },
     "execution_count": 13,
     "metadata": {},
     "output_type": "execute_result"
    }
   ],
   "source": [
    "element = driver.find_element_by_xpath('//li[@title[contains(.,\"素材管理\")]]/a') \n",
    "# main_content = element.get_attribute('innerHTML')\n",
    "# main_content\n",
    "url2= element.get_attribute(\"href\")\n",
    "url2"
   ]
  },
  {
   "cell_type": "code",
   "execution_count": 14,
   "metadata": {},
   "outputs": [],
   "source": [
    "driver.get(url2)"
   ]
  },
  {
   "cell_type": "markdown",
   "metadata": {},
   "source": [
    "## 新建图文消息"
   ]
  },
  {
   "cell_type": "code",
   "execution_count": 15,
   "metadata": {},
   "outputs": [],
   "source": [
    "element = driver.find_element_by_xpath('//*[text()[contains(.,\"新建图文消息\")]]') \n",
    "main_content = element.get_attribute('innerHTML')\n",
    "main_content\n",
    "element.click()"
   ]
  },
  {
   "cell_type": "code",
   "execution_count": 16,
   "metadata": {},
   "outputs": [
    {
     "name": "stdout",
     "output_type": "stream",
     "text": [
      "['CDwindow-F6F2969BC17AFFDD9164306F7D87C1A9', 'CDwindow-267CEBF89A275186008E7B89C4717574']\n"
     ]
    }
   ],
   "source": [
    "print (driver.window_handles)"
   ]
  },
  {
   "cell_type": "code",
   "execution_count": 17,
   "metadata": {},
   "outputs": [],
   "source": [
    "# 新建图文消息开了另一分视窗，所以要切换 switch_to \n",
    "driver.switch_to.window(driver.window_handles[-1])"
   ]
  },
  {
   "cell_type": "markdown",
   "metadata": {},
   "source": [
    "## 超链接"
   ]
  },
  {
   "cell_type": "code",
   "execution_count": 18,
   "metadata": {},
   "outputs": [
    {
     "name": "stdout",
     "output_type": "stream",
     "text": [
      "                超链接              \n"
     ]
    }
   ],
   "source": [
    "element = driver.find_element_by_xpath('//*[text()[contains(.,\"超链接\")]]') \n",
    "main_content = element.get_attribute('innerHTML')\n",
    "print(main_content)\n",
    "element.click()"
   ]
  },
  {
   "cell_type": "code",
   "execution_count": 19,
   "metadata": {},
   "outputs": [
    {
     "name": "stdout",
     "output_type": "stream",
     "text": [
      "选择其他公众号\n"
     ]
    }
   ],
   "source": [
    "# 点 选择其他公众号\n",
    "element = driver.find_element_by_xpath('//*[text()[contains(.,\"选择其他公众号\")]]') \n",
    "main_content = element.get_attribute('innerHTML')\n",
    "print(main_content)\n",
    "element.click()"
   ]
  },
  {
   "cell_type": "code",
   "execution_count": 20,
   "metadata": {},
   "outputs": [],
   "source": [
    "driver.find_element_by_xpath('//form//div[@class=\"inner_link_account_area\"]//input[@class=\"weui-desktop-form__input\"]').clear()\n",
    "driver.find_element_by_xpath('//form//div[@class=\"inner_link_account_area\"]//input[@class=\"weui-desktop-form__input\"]').send_keys(公众号)"
   ]
  },
  {
   "cell_type": "code",
   "execution_count": 21,
   "metadata": {},
   "outputs": [
    {
     "name": "stdout",
     "output_type": "stream",
     "text": [
      "<div class=\"weui-desktop-icon weui-desktop-icon__inputSearch weui-desktop-icon__small\"><!----> <!----> <!----> <!----> <!----> <!----> <!----> <!----> <!----> <!----> <!----> <!----> <!----> <!----> <!----> <!----> <!----> <!----> <!----> <!----> <!----> <!----> <!----> <!----> <!----> <!----> <!----> <!----> <!----> <!----> <!----> <!----> <!----> <!----> <!----> <!----> <!----> <!----> <!----> <!----> <!----> <!----> <!----> <!----> <!----> <!----> <!----> <!----> <!----> <!----> <!----> <!----> <!----> <!----> <svg width=\"16\" height=\"16\" viewBox=\"0 0 16 16\" xmlns=\"http://www.w3.org/2000/svg\"><path d=\"M11.33 10.007l4.273 4.273a.502.502 0 0 1 .005.709l-.585.584a.499.499 0 0 1-.709-.004L10.046 11.3a6.278 6.278 0 1 1 1.284-1.294zm.012-3.729a5.063 5.063 0 1 0-10.127 0 5.063 5.063 0 0 0 10.127 0z\"></path></svg> <!----> <!----> <!----> <!----></div>\n"
     ]
    }
   ],
   "source": [
    "# 点放大镜搜\n",
    "element = driver.find_element_by_xpath('//button[@class=\"weui-desktop-icon-btn weui-desktop-search__btn\"]')\n",
    "main_content = element.get_attribute('innerHTML')\n",
    "print(main_content)\n",
    "element.click()"
   ]
  },
  {
   "cell_type": "code",
   "execution_count": 22,
   "metadata": {},
   "outputs": [
    {
     "name": "stdout",
     "output_type": "stream",
     "text": [
      "<li class=\"inner_link_account_item\"><div class=\"weui-desktop-vm_primary\"><img src=\"http://mmbiz.qpic.cn/mmbiz_png/TWTeiaAEGYyib7EVgYQXmq0F4vn5QJH5zaVUbianMBEs5xs2bx4LibsVCyNSZf6yicZp8aQmEdd6qKHHetfXL1YwDNw/0?wx_fmt=png\" class=\"inner_link_account_avatar\"> <strong class=\"inner_link_account_nickname\">科技美学</strong> <i class=\"inner_link_account_wechat\">微信号：kejimx</i></div> <div class=\"weui-desktop-vm_default inner_link_account_type\">订阅号</div></li><li class=\"inner_link_account_item\"><div class=\"weui-desktop-vm_primary\"><img src=\"http://mmbiz.qpic.cn/mmbiz_png/2Dsfquu0s4sms99RKzG0icfhWaJ7t2hfYNz8MlWbkDVXsXiaZNmKD9Yiciaiaibr8zIUqluUMzSPLS7zJicGEDmb1WYpQ/0?wx_fmt=png\" class=\"inner_link_account_avatar\"> <strong class=\"inner_link_account_nickname\">科技美学官方</strong> <i class=\"inner_link_account_wechat\">微信号：kjmxcn</i></div> <div class=\"weui-desktop-vm_default inner_link_account_type\">订阅号</div></li><li class=\"inner_link_account_item\"><div class=\"weui-desktop-vm_primary\"><img src=\"http://mmbiz.qpic.cn/mmbiz_png/dicrzcrkZal3X2S3WlvaeyQY8gS45Uk9icdDWbr9B8iaM8E1XkxLmAdw9l7tR1v2IWK6D1RIyDePLTL8mMBAkaCxQ/0?wx_fmt=png\" class=\"inner_link_account_avatar\"> <strong class=\"inner_link_account_nickname\">设哲科技美学</strong> <i class=\"inner_link_account_wechat\">微信号：未设置</i></div> <div class=\"weui-desktop-vm_default inner_link_account_type\">服务号</div></li><li class=\"inner_link_account_item\"><div class=\"weui-desktop-vm_primary\"><img src=\"http://mmbiz.qpic.cn/mmbiz_png/MCsmqiaxHjPyvSOw7uAibhUSarUgzPNu9Jg7kN4PFarjsDvjg8uc1sZt3uevZaFEBc0fqEmmxTK7CPX1lUibALG2A/0?wx_fmt=png\" class=\"inner_link_account_avatar\"> <strong class=\"inner_link_account_nickname\">新科技美学</strong> <i class=\"inner_link_account_wechat\">微信号：xkejimx</i></div> <div class=\"weui-desktop-vm_default inner_link_account_type\">订阅号</div></li><li class=\"inner_link_account_item\"><div class=\"weui-desktop-vm_primary\"><img src=\"http://mmbiz.qpic.cn/sz_mmbiz_png/aAicbPbZZU2PxaE06gBQCz6JeO3AYwlPotYCkBDqLfla3E8CvgiaBjFGyVagzY9icBia9v1qQNUgxgcZTEE1e0TsKQ/0?wx_fmt=png\" class=\"inner_link_account_avatar\"> <strong class=\"inner_link_account_nickname\">蒲公英之约科技美学管理</strong> <i class=\"inner_link_account_wechat\">微信号：szpgyzy1998</i></div> <div class=\"weui-desktop-vm_default inner_link_account_type\">服务号</div></li>\n"
     ]
    }
   ],
   "source": [
    "element = driver.find_element_by_xpath('//ul[@class=\"inner_link_account_list\"]')\n",
    "main_content = element.get_attribute('innerHTML')\n",
    "print(main_content)\n",
    "公众号SERP = main_content\n"
   ]
  },
  {
   "cell_type": "code",
   "execution_count": 23,
   "metadata": {},
   "outputs": [],
   "source": [
    "# 解析\n",
    "root = fromstring(公众号SERP) "
   ]
  },
  {
   "cell_type": "code",
   "execution_count": 24,
   "metadata": {},
   "outputs": [],
   "source": [
    "主 = root.xpath('//li[@class=\"inner_link_account_item\"]')\n",
    "\n",
    "account_list = []\n",
    "for e in 主:\n",
    "    account_nickname = e.xpath('./div/strong[@class=\"inner_link_account_nickname\"]')[0].text\n",
    "    account_wechat = e.xpath('./div/i[@class=\"inner_link_account_wechat\"]')[0].text\n",
    "    account_img = e.xpath('./div/img/@src')[0]\n",
    "    account = {\"nickname\": account_nickname, \"wechat\": account_wechat, \"img\": account_img,}\n",
    "    account_list.append(account)\n",
    "\n",
    "df_account = pd.DataFrame(account_list)"
   ]
  },
  {
   "cell_type": "code",
   "execution_count": 25,
   "metadata": {},
   "outputs": [
    {
     "data": {
      "text/html": [
       "<div>\n",
       "<style scoped>\n",
       "    .dataframe tbody tr th:only-of-type {\n",
       "        vertical-align: middle;\n",
       "    }\n",
       "\n",
       "    .dataframe tbody tr th {\n",
       "        vertical-align: top;\n",
       "    }\n",
       "\n",
       "    .dataframe thead th {\n",
       "        text-align: right;\n",
       "    }\n",
       "</style>\n",
       "<table border=\"1\" class=\"dataframe\">\n",
       "  <thead>\n",
       "    <tr style=\"text-align: right;\">\n",
       "      <th></th>\n",
       "      <th>nickname</th>\n",
       "      <th>wechat</th>\n",
       "      <th>img</th>\n",
       "    </tr>\n",
       "  </thead>\n",
       "  <tbody>\n",
       "    <tr>\n",
       "      <th>0</th>\n",
       "      <td>科技美学</td>\n",
       "      <td>微信号：kejimx</td>\n",
       "      <td>http://mmbiz.qpic.cn/mmbiz_png/TWTeiaAEGYyib7E...</td>\n",
       "    </tr>\n",
       "    <tr>\n",
       "      <th>1</th>\n",
       "      <td>科技美学官方</td>\n",
       "      <td>微信号：kjmxcn</td>\n",
       "      <td>http://mmbiz.qpic.cn/mmbiz_png/2Dsfquu0s4sms99...</td>\n",
       "    </tr>\n",
       "    <tr>\n",
       "      <th>2</th>\n",
       "      <td>设哲科技美学</td>\n",
       "      <td>微信号：未设置</td>\n",
       "      <td>http://mmbiz.qpic.cn/mmbiz_png/dicrzcrkZal3X2S...</td>\n",
       "    </tr>\n",
       "    <tr>\n",
       "      <th>3</th>\n",
       "      <td>新科技美学</td>\n",
       "      <td>微信号：xkejimx</td>\n",
       "      <td>http://mmbiz.qpic.cn/mmbiz_png/MCsmqiaxHjPyvSO...</td>\n",
       "    </tr>\n",
       "    <tr>\n",
       "      <th>4</th>\n",
       "      <td>蒲公英之约科技美学管理</td>\n",
       "      <td>微信号：szpgyzy1998</td>\n",
       "      <td>http://mmbiz.qpic.cn/sz_mmbiz_png/aAicbPbZZU2P...</td>\n",
       "    </tr>\n",
       "  </tbody>\n",
       "</table>\n",
       "</div>"
      ],
      "text/plain": [
       "      nickname           wechat  \\\n",
       "0         科技美学       微信号：kejimx   \n",
       "1       科技美学官方       微信号：kjmxcn   \n",
       "2       设哲科技美学          微信号：未设置   \n",
       "3        新科技美学      微信号：xkejimx   \n",
       "4  蒲公英之约科技美学管理  微信号：szpgyzy1998   \n",
       "\n",
       "                                                 img  \n",
       "0  http://mmbiz.qpic.cn/mmbiz_png/TWTeiaAEGYyib7E...  \n",
       "1  http://mmbiz.qpic.cn/mmbiz_png/2Dsfquu0s4sms99...  \n",
       "2  http://mmbiz.qpic.cn/mmbiz_png/dicrzcrkZal3X2S...  \n",
       "3  http://mmbiz.qpic.cn/mmbiz_png/MCsmqiaxHjPyvSO...  \n",
       "4  http://mmbiz.qpic.cn/sz_mmbiz_png/aAicbPbZZU2P...  "
      ]
     },
     "execution_count": 25,
     "metadata": {},
     "output_type": "execute_result"
    }
   ],
   "source": [
    "df_account"
   ]
  },
  {
   "cell_type": "code",
   "execution_count": 26,
   "metadata": {},
   "outputs": [
    {
     "name": "stdout",
     "output_type": "stream",
     "text": [
      "<div class=\"weui-desktop-vm_primary\"><img src=\"http://mmbiz.qpic.cn/mmbiz_png/TWTeiaAEGYyib7EVgYQXmq0F4vn5QJH5zaVUbianMBEs5xs2bx4LibsVCyNSZf6yicZp8aQmEdd6qKHHetfXL1YwDNw/0?wx_fmt=png\" class=\"inner_link_account_avatar\"> <strong class=\"inner_link_account_nickname\">科技美学</strong> <i class=\"inner_link_account_wechat\">微信号：kejimx</i></div> <div class=\"weui-desktop-vm_default inner_link_account_type\">订阅号</div>\n"
     ]
    }
   ],
   "source": [
    "element = driver.find_element_by_xpath('//ul[@class=\"inner_link_account_list\"]/li')\n",
    "main_content = element.get_attribute('innerHTML')\n",
    "print(main_content)\n",
    "element.click()"
   ]
  },
  {
   "cell_type": "code",
   "execution_count": 27,
   "metadata": {},
   "outputs": [
    {
     "data": {
      "text/plain": [
       "'\\n跳转_input = driver.find_element_by_xpath(\\'//span[@class=\"weui-desktop-pagination__form\"]/input\\')\\n跳转_a = driver.find_element_by_xpath(\\'//span[@class=\"weui-desktop-pagination__form\"]/a\\')\\n跳转_input.clear()\\n跳转_input.send_keys(2)\\n跳转_a.click()\\n'"
      ]
     },
     "execution_count": 27,
     "metadata": {},
     "output_type": "execute_result"
    }
   ],
   "source": [
    "# 跳转testing\n",
    "'''\n",
    "跳转_input = driver.find_element_by_xpath('//span[@class=\"weui-desktop-pagination__form\"]/input')\n",
    "跳转_a = driver.find_element_by_xpath('//span[@class=\"weui-desktop-pagination__form\"]/a')\n",
    "跳转_input.clear()\n",
    "跳转_input.send_keys(2)\n",
    "跳转_a.click()\n",
    "'''"
   ]
  },
  {
   "cell_type": "code",
   "execution_count": 28,
   "metadata": {},
   "outputs": [
    {
     "name": "stdout",
     "output_type": "stream",
     "text": [
      "[1, 124]\n",
      "False\n"
     ]
    }
   ],
   "source": [
    "# 跳转上限\n",
    "l_e = driver.find_elements_by_xpath('//label[@class=\"weui-desktop-pagination__num\"]')\n",
    "l_e_int  = [int(x.text) for x in l_e] \n",
    "print (l_e_int)\n",
    "print (l_e_int[0]==l_e_int[-1])"
   ]
  },
  {
   "cell_type": "code",
   "execution_count": 29,
   "metadata": {},
   "outputs": [
    {
     "name": "stdout",
     "output_type": "stream",
     "text": [
      "[1, 2, 3, 4, 5, 6, 7, 8, 9, 10, 11, 12, 13, 14, 15, 16, 17, 18, 19, 20, 21, 22, 23, 24, 25, 26, 27, 28, 29, 30, 31, 32, 33, 34, 35, 36, 37, 38, 39, 40, 41, 42, 43, 44, 45, 46, 47, 48, 49, 50, 51, 52, 53, 54, 55, 56, 57, 58, 59, 60, 61, 62, 63, 64, 65, 66, 67, 68, 69, 70, 71, 72, 73, 74, 75, 76, 77, 78, 79, 80, 81, 82, 83, 84, 85, 86, 87, 88, 89, 90, 91, 92, 93, 94, 95, 96, 97, 98, 99, 100, 101, 102, 103, 104, 105, 106, 107, 108, 109, 110, 111, 112, 113, 114, 115, 116, 117, 118, 119, 120, 121, 122, 123, 124]\n"
     ]
    }
   ],
   "source": [
    "pages = list(range(l_e_int[0],l_e_int[-1]+1 ))\n",
    "#print(pages[0:2])\n",
    "pages = list(range(1,l_e_int[-1]+1 ))\n",
    "print(pages)"
   ]
  },
  {
   "cell_type": "markdown",
   "metadata": {},
   "source": [
    "## 循环/遍历"
   ]
  },
  {
   "cell_type": "code",
   "execution_count": 33,
   "metadata": {},
   "outputs": [],
   "source": [
    "# global varialbes \n",
    "html_raw = dict()\n",
    "main_content =\"\"\n",
    "element = None"
   ]
  },
  {
   "cell_type": "code",
   "execution_count": 38,
   "metadata": {},
   "outputs": [],
   "source": [
    "def process_pages (pages):\n",
    "    for p in pages:\n",
    "        print (p,end='\\t')\n",
    "\n",
    "        跳转_input = driver.find_element_by_xpath('//span[@class=\"weui-desktop-pagination__form\"]/input')\n",
    "        跳转_a = driver.find_element_by_xpath('//span[@class=\"weui-desktop-pagination__form\"]/a')\n",
    "        跳转_input.clear()\n",
    "        跳转_input.send_keys(p)\n",
    "        跳转_a.click()\n",
    "\n",
    "        time.sleep(15+5*random())\n",
    "\n",
    "        element = driver.find_element_by_xpath('//div[@class=\"inner_link_article_list\"]')\n",
    "        main_content = element.get_attribute('innerHTML')\n",
    "        #print(main_content)\n",
    "        html_raw[p] = main_content"
   ]
  },
  {
   "cell_type": "code",
   "execution_count": 39,
   "metadata": {},
   "outputs": [
    {
     "name": "stdout",
     "output_type": "stream",
     "text": [
      "1\t2\t3\t4\t5\t6\t7\t8\t9\t10\t11\t12\t13\t14\t15\t16\t17\t18\t19\t20\t21\t22\t23\t24\t25\t26\t27\t28\t29\t30\t31\t32\t33\t34\t35\t36\t37\t38\t39\t40\t41\t42\t43\t44\t45\t46\t47\t48\t49\t50\t51\t52\t53\t54\t55\t56\t57\t58\t59\t60\t61\t62\t63\t64\t65\t66\t67\t68\t69\t70\t71\t72\t73\t74\t75\t76\t77\t78\t79\t80\t81\t82\t83\t84\t85\t86\t87\t88\t89\t90\t91\t92\t93\t94\t95\t96\t97\t98\t99\t100\t101\t102\t103\t104\t105\t106\t107\t108\t109\t110\t111\t112\t113\t114\t115\t116\t117\t118\t119\t120\t121\t122\t123\t124\t"
     ]
    }
   ],
   "source": [
    "process_pages(pages)"
   ]
  },
  {
   "cell_type": "code",
   "execution_count": 40,
   "metadata": {},
   "outputs": [
    {
     "data": {
      "text/html": [
       "<div>\n",
       "<style scoped>\n",
       "    .dataframe tbody tr th:only-of-type {\n",
       "        vertical-align: middle;\n",
       "    }\n",
       "\n",
       "    .dataframe tbody tr th {\n",
       "        vertical-align: top;\n",
       "    }\n",
       "\n",
       "    .dataframe thead th {\n",
       "        text-align: right;\n",
       "    }\n",
       "</style>\n",
       "<table border=\"1\" class=\"dataframe\">\n",
       "  <thead>\n",
       "    <tr style=\"text-align: right;\">\n",
       "      <th></th>\n",
       "      <th>html_snippets</th>\n",
       "    </tr>\n",
       "  </thead>\n",
       "  <tbody>\n",
       "    <tr>\n",
       "      <th>1</th>\n",
       "      <td>&lt;div&gt;&lt;label class=\"inner_link_article_item\"&gt;&lt;s...</td>\n",
       "    </tr>\n",
       "    <tr>\n",
       "      <th>2</th>\n",
       "      <td>&lt;div&gt;&lt;label class=\"inner_link_article_item\"&gt;&lt;s...</td>\n",
       "    </tr>\n",
       "    <tr>\n",
       "      <th>3</th>\n",
       "      <td>&lt;div&gt;&lt;label class=\"inner_link_article_item\"&gt;&lt;s...</td>\n",
       "    </tr>\n",
       "    <tr>\n",
       "      <th>4</th>\n",
       "      <td>&lt;div&gt;&lt;label class=\"inner_link_article_item\"&gt;&lt;s...</td>\n",
       "    </tr>\n",
       "    <tr>\n",
       "      <th>5</th>\n",
       "      <td>&lt;div&gt;&lt;label class=\"inner_link_article_item\"&gt;&lt;s...</td>\n",
       "    </tr>\n",
       "    <tr>\n",
       "      <th>...</th>\n",
       "      <td>...</td>\n",
       "    </tr>\n",
       "    <tr>\n",
       "      <th>120</th>\n",
       "      <td>&lt;div&gt;&lt;label class=\"inner_link_article_item\"&gt;&lt;s...</td>\n",
       "    </tr>\n",
       "    <tr>\n",
       "      <th>121</th>\n",
       "      <td>&lt;div&gt;&lt;label class=\"inner_link_article_item\"&gt;&lt;s...</td>\n",
       "    </tr>\n",
       "    <tr>\n",
       "      <th>122</th>\n",
       "      <td>&lt;div&gt;&lt;label class=\"inner_link_article_item\"&gt;&lt;s...</td>\n",
       "    </tr>\n",
       "    <tr>\n",
       "      <th>123</th>\n",
       "      <td>&lt;div&gt;&lt;label class=\"inner_link_article_item\"&gt;&lt;s...</td>\n",
       "    </tr>\n",
       "    <tr>\n",
       "      <th>124</th>\n",
       "      <td>&lt;div&gt;&lt;label class=\"inner_link_article_item\"&gt;&lt;s...</td>\n",
       "    </tr>\n",
       "  </tbody>\n",
       "</table>\n",
       "<p>124 rows × 1 columns</p>\n",
       "</div>"
      ],
      "text/plain": [
       "                                         html_snippets\n",
       "1    <div><label class=\"inner_link_article_item\"><s...\n",
       "2    <div><label class=\"inner_link_article_item\"><s...\n",
       "3    <div><label class=\"inner_link_article_item\"><s...\n",
       "4    <div><label class=\"inner_link_article_item\"><s...\n",
       "5    <div><label class=\"inner_link_article_item\"><s...\n",
       "..                                                 ...\n",
       "120  <div><label class=\"inner_link_article_item\"><s...\n",
       "121  <div><label class=\"inner_link_article_item\"><s...\n",
       "122  <div><label class=\"inner_link_article_item\"><s...\n",
       "123  <div><label class=\"inner_link_article_item\"><s...\n",
       "124  <div><label class=\"inner_link_article_item\"><s...\n",
       "\n",
       "[124 rows x 1 columns]"
      ]
     },
     "execution_count": 40,
     "metadata": {},
     "output_type": "execute_result"
    }
   ],
   "source": [
    "df = pd.DataFrame([html_raw]).T\n",
    "df.columns = [\"html_snippets\"]\n",
    "df"
   ]
  },
  {
   "cell_type": "code",
   "execution_count": 41,
   "metadata": {},
   "outputs": [
    {
     "name": "stdout",
     "output_type": "stream",
     "text": [
      "Stored 'html_raw' (dict)\n"
     ]
    }
   ],
   "source": [
    "%store html_raw\n",
    "import pickle \n",
    "filehandler = open(\"html_raw\", 'wb') \n",
    "pickle.dump(html_raw, filehandler)"
   ]
  },
  {
   "cell_type": "code",
   "execution_count": 42,
   "metadata": {},
   "outputs": [
    {
     "name": "stdout",
     "output_type": "stream",
     "text": [
      "33\n"
     ]
    },
    {
     "data": {
      "text/html": [
       "<div>\n",
       "<style scoped>\n",
       "    .dataframe tbody tr th:only-of-type {\n",
       "        vertical-align: middle;\n",
       "    }\n",
       "\n",
       "    .dataframe tbody tr th {\n",
       "        vertical-align: top;\n",
       "    }\n",
       "\n",
       "    .dataframe thead th {\n",
       "        text-align: right;\n",
       "    }\n",
       "</style>\n",
       "<table border=\"1\" class=\"dataframe\">\n",
       "  <thead>\n",
       "    <tr style=\"text-align: right;\">\n",
       "      <th></th>\n",
       "      <th>html_snippets</th>\n",
       "    </tr>\n",
       "  </thead>\n",
       "  <tbody>\n",
       "    <tr>\n",
       "      <th>11</th>\n",
       "      <td>&lt;div&gt;&lt;label class=\"inner_link_article_item\"&gt;&lt;s...</td>\n",
       "    </tr>\n",
       "    <tr>\n",
       "      <th>35</th>\n",
       "      <td>&lt;div&gt;&lt;label class=\"inner_link_article_item\"&gt;&lt;s...</td>\n",
       "    </tr>\n",
       "    <tr>\n",
       "      <th>36</th>\n",
       "      <td>&lt;div&gt;&lt;label class=\"inner_link_article_item\"&gt;&lt;s...</td>\n",
       "    </tr>\n",
       "    <tr>\n",
       "      <th>37</th>\n",
       "      <td>&lt;div&gt;&lt;label class=\"inner_link_article_item\"&gt;&lt;s...</td>\n",
       "    </tr>\n",
       "    <tr>\n",
       "      <th>38</th>\n",
       "      <td>&lt;div&gt;&lt;label class=\"inner_link_article_item\"&gt;&lt;s...</td>\n",
       "    </tr>\n",
       "    <tr>\n",
       "      <th>...</th>\n",
       "      <td>...</td>\n",
       "    </tr>\n",
       "    <tr>\n",
       "      <th>120</th>\n",
       "      <td>&lt;div&gt;&lt;label class=\"inner_link_article_item\"&gt;&lt;s...</td>\n",
       "    </tr>\n",
       "    <tr>\n",
       "      <th>121</th>\n",
       "      <td>&lt;div&gt;&lt;label class=\"inner_link_article_item\"&gt;&lt;s...</td>\n",
       "    </tr>\n",
       "    <tr>\n",
       "      <th>122</th>\n",
       "      <td>&lt;div&gt;&lt;label class=\"inner_link_article_item\"&gt;&lt;s...</td>\n",
       "    </tr>\n",
       "    <tr>\n",
       "      <th>123</th>\n",
       "      <td>&lt;div&gt;&lt;label class=\"inner_link_article_item\"&gt;&lt;s...</td>\n",
       "    </tr>\n",
       "    <tr>\n",
       "      <th>124</th>\n",
       "      <td>&lt;div&gt;&lt;label class=\"inner_link_article_item\"&gt;&lt;s...</td>\n",
       "    </tr>\n",
       "  </tbody>\n",
       "</table>\n",
       "<p>91 rows × 1 columns</p>\n",
       "</div>"
      ],
      "text/plain": [
       "                                         html_snippets\n",
       "11   <div><label class=\"inner_link_article_item\"><s...\n",
       "35   <div><label class=\"inner_link_article_item\"><s...\n",
       "36   <div><label class=\"inner_link_article_item\"><s...\n",
       "37   <div><label class=\"inner_link_article_item\"><s...\n",
       "38   <div><label class=\"inner_link_article_item\"><s...\n",
       "..                                                 ...\n",
       "120  <div><label class=\"inner_link_article_item\"><s...\n",
       "121  <div><label class=\"inner_link_article_item\"><s...\n",
       "122  <div><label class=\"inner_link_article_item\"><s...\n",
       "123  <div><label class=\"inner_link_article_item\"><s...\n",
       "124  <div><label class=\"inner_link_article_item\"><s...\n",
       "\n",
       "[91 rows x 1 columns]"
      ]
     },
     "execution_count": 42,
     "metadata": {},
     "output_type": "execute_result"
    }
   ],
   "source": [
    "df_out = df[~df.duplicated()]\n",
    "print (len(df_out))\n",
    "df[df.duplicated()]"
   ]
  },
  {
   "cell_type": "code",
   "execution_count": 43,
   "metadata": {},
   "outputs": [
    {
     "name": "stdout",
     "output_type": "stream",
     "text": [
      "[11, 35, 36, 37, 38, 39, 40, 41, 42, 43, 44, 45, 46, 47, 48, 49, 50, 51, 52, 53, 54, 55, 56, 57, 58, 59, 60, 61, 62, 63, 64, 65, 66, 67, 68, 69, 70, 71, 72, 73, 74, 75, 76, 77, 78, 79, 80, 81, 82, 83, 84, 85, 86, 87, 88, 89, 90, 91, 92, 93, 94, 95, 96, 97, 98, 99, 100, 101, 102, 103, 104, 105, 106, 107, 108, 109, 110, 111, 112, 113, 114, 115, 116, 117, 118, 119, 120, 121, 122, 123, 124]\n"
     ]
    },
    {
     "data": {
      "text/plain": [
       "[11,\n",
       " 35,\n",
       " 36,\n",
       " 37,\n",
       " 38,\n",
       " 39,\n",
       " 40,\n",
       " 41,\n",
       " 42,\n",
       " 43,\n",
       " 44,\n",
       " 45,\n",
       " 46,\n",
       " 47,\n",
       " 48,\n",
       " 49,\n",
       " 50,\n",
       " 51,\n",
       " 52,\n",
       " 53,\n",
       " 54,\n",
       " 55,\n",
       " 56,\n",
       " 57,\n",
       " 58,\n",
       " 59,\n",
       " 60,\n",
       " 61,\n",
       " 62,\n",
       " 63,\n",
       " 64,\n",
       " 65,\n",
       " 66,\n",
       " 67,\n",
       " 68,\n",
       " 69,\n",
       " 70,\n",
       " 71,\n",
       " 72,\n",
       " 73,\n",
       " 74,\n",
       " 75,\n",
       " 76,\n",
       " 77,\n",
       " 78,\n",
       " 79,\n",
       " 80,\n",
       " 81,\n",
       " 82,\n",
       " 83,\n",
       " 84,\n",
       " 85,\n",
       " 86,\n",
       " 87,\n",
       " 88,\n",
       " 89,\n",
       " 90,\n",
       " 91,\n",
       " 92,\n",
       " 93,\n",
       " 94,\n",
       " 95,\n",
       " 96,\n",
       " 97,\n",
       " 98,\n",
       " 99,\n",
       " 100,\n",
       " 101,\n",
       " 102,\n",
       " 103,\n",
       " 104,\n",
       " 105,\n",
       " 106,\n",
       " 107,\n",
       " 108,\n",
       " 109,\n",
       " 110,\n",
       " 111,\n",
       " 112,\n",
       " 113,\n",
       " 114,\n",
       " 115,\n",
       " 116,\n",
       " 117,\n",
       " 118,\n",
       " 119,\n",
       " 120,\n",
       " 121,\n",
       " 122,\n",
       " 123,\n",
       " 124]"
      ]
     },
     "execution_count": 43,
     "metadata": {},
     "output_type": "execute_result"
    }
   ],
   "source": [
    "try_again = list(df[df.duplicated()].index)\n",
    "print(try_again)\n",
    "try_again = try_again + list (set(pages).difference(set(df.index.values)))\n",
    "try_again"
   ]
  },
  {
   "cell_type": "markdown",
   "metadata": {},
   "source": [
    "## 暂存档"
   ]
  },
  {
   "cell_type": "code",
   "execution_count": 44,
   "metadata": {},
   "outputs": [],
   "source": [
    "filename = fn [\"output\"] [\"公众号_htm_snippets\"] \n",
    "df_out.to_csv(filename.format(公众号=公众号), sep=\"\\t\", encoding=\"utf8\")"
   ]
  },
  {
   "cell_type": "code",
   "execution_count": 45,
   "metadata": {},
   "outputs": [
    {
     "name": "stdout",
     "output_type": "stream",
     "text": [
      "33,37,39,38,35,37,38,40,34,33,33,33,33,31,33,34,30,32,30,31,33,30,24,32,34,37,38,35,37,37,38,37,37,39,39,39,39,39,39,39,39,39,39,39,39,39,39,39,39,39,39,39,39,39,39,39,39,39,39,39,39,39,39,39,39,39,39,39,39,39,39,39,39,39,39,39,39,39,39,39,39,39,39,39,39,39,39,39,39,39,39,39,39,39,39,39,39,39,39,39,39,39,39,39,39,39,39,39,39,39,39,39,39,39,39,39,39,39,39,39,39,39,39,39,"
     ]
    }
   ],
   "source": [
    "def parse_html_snippets(_snippet_):\n",
    "    root = fromstring(_snippet_) \n",
    "    title = [x.text for x in root.xpath('//div[@class=\"inner_link_article_title\"]')]\n",
    "    create_time = [x.text for x in root.xpath('//div[@class=\"inner_link_article_date\"]')]\n",
    "    link = [x for x in root.xpath('//a/@href')]\n",
    "    _df_ = pd.DataFrame({\"title\":title, \"create_time\": create_time, \"link\":link})\n",
    "    return(_df_)\n",
    "    \n",
    "l_df = []\n",
    "for p in pages:\n",
    "    _df_ = parse_html_snippets(df.loc[p,\"html_snippets\"])\n",
    "    print (len(_df_), end=\",\")\n",
    "    l_df.append(_df_)"
   ]
  },
  {
   "cell_type": "code",
   "execution_count": 46,
   "metadata": {},
   "outputs": [
    {
     "data": {
      "text/html": [
       "<div>\n",
       "<style scoped>\n",
       "    .dataframe tbody tr th:only-of-type {\n",
       "        vertical-align: middle;\n",
       "    }\n",
       "\n",
       "    .dataframe tbody tr th {\n",
       "        vertical-align: top;\n",
       "    }\n",
       "\n",
       "    .dataframe thead th {\n",
       "        text-align: right;\n",
       "    }\n",
       "</style>\n",
       "<table border=\"1\" class=\"dataframe\">\n",
       "  <thead>\n",
       "    <tr style=\"text-align: right;\">\n",
       "      <th></th>\n",
       "      <th>title</th>\n",
       "      <th>create_time</th>\n",
       "      <th>link</th>\n",
       "    </tr>\n",
       "  </thead>\n",
       "  <tbody>\n",
       "    <tr>\n",
       "      <th>0</th>\n",
       "      <td>2月全球手机市场份额排名，三星第一、苹果第二、华为远超预期</td>\n",
       "      <td>2020-03-28</td>\n",
       "      <td>http://mp.weixin.qq.com/s?__biz=MjM5MDQ4MzU5NQ...</td>\n",
       "    </tr>\n",
       "    <tr>\n",
       "      <th>1</th>\n",
       "      <td>打孔屏+矩形后摄，首发麒麟820，荣耀30S确认</td>\n",
       "      <td>2020-03-28</td>\n",
       "      <td>http://mp.weixin.qq.com/s?__biz=MjM5MDQ4MzU5NQ...</td>\n",
       "    </tr>\n",
       "    <tr>\n",
       "      <th>2</th>\n",
       "      <td>小米10系列海外发布，国际版价格对标华为P40系列</td>\n",
       "      <td>2020-03-28</td>\n",
       "      <td>http://mp.weixin.qq.com/s?__biz=MjM5MDQ4MzU5NQ...</td>\n",
       "    </tr>\n",
       "    <tr>\n",
       "      <th>3</th>\n",
       "      <td>苹果拟为Apple Watch加入Touch ID，或采用屏下指纹</td>\n",
       "      <td>2020-03-28</td>\n",
       "      <td>http://mp.weixin.qq.com/s?__biz=MjM5MDQ4MzU5NQ...</td>\n",
       "    </tr>\n",
       "    <tr>\n",
       "      <th>4</th>\n",
       "      <td>OPPO Ace2 5G入网工信部，真机照、参数曝光</td>\n",
       "      <td>2020-03-28</td>\n",
       "      <td>http://mp.weixin.qq.com/s?__biz=MjM5MDQ4MzU5NQ...</td>\n",
       "    </tr>\n",
       "    <tr>\n",
       "      <th>5</th>\n",
       "      <td>Windows 10用户有连不上网的情况，微软：正在解决</td>\n",
       "      <td>2020-03-28</td>\n",
       "      <td>http://mp.weixin.qq.com/s?__biz=MjM5MDQ4MzU5NQ...</td>\n",
       "    </tr>\n",
       "    <tr>\n",
       "      <th>6</th>\n",
       "      <td>华为P40 系列全系真机上手体验</td>\n",
       "      <td>2020-03-27</td>\n",
       "      <td>http://mp.weixin.qq.com/s?__biz=MjM5MDQ4MzU5NQ...</td>\n",
       "    </tr>\n",
       "    <tr>\n",
       "      <th>7</th>\n",
       "      <td>iPhone 9 或4月上市，新款iPhone或延期发布</td>\n",
       "      <td>2020-03-27</td>\n",
       "      <td>http://mp.weixin.qq.com/s?__biz=MjM5MDQ4MzU5NQ...</td>\n",
       "    </tr>\n",
       "    <tr>\n",
       "      <th>8</th>\n",
       "      <td>AMD YES？AMD 锐龙7 4800H-华硕天选高性价比游戏本|大家测535</td>\n",
       "      <td>2020-03-27</td>\n",
       "      <td>http://mp.weixin.qq.com/s?__biz=MjM5MDQ4MzU5NQ...</td>\n",
       "    </tr>\n",
       "    <tr>\n",
       "      <th>9</th>\n",
       "      <td>荣耀30S支持40W有线快充，打孔屏设计</td>\n",
       "      <td>2020-03-27</td>\n",
       "      <td>http://mp.weixin.qq.com/s?__biz=MjM5MDQ4MzU5NQ...</td>\n",
       "    </tr>\n",
       "    <tr>\n",
       "      <th>10</th>\n",
       "      <td>一加8系列发布会时间下周公布，绿色版本渲染图曝光</td>\n",
       "      <td>2020-03-27</td>\n",
       "      <td>http://mp.weixin.qq.com/s?__biz=MjM5MDQ4MzU5NQ...</td>\n",
       "    </tr>\n",
       "  </tbody>\n",
       "</table>\n",
       "</div>"
      ],
      "text/plain": [
       "                                       title create_time  \\\n",
       "0              2月全球手机市场份额排名，三星第一、苹果第二、华为远超预期  2020-03-28   \n",
       "1                   打孔屏+矩形后摄，首发麒麟820，荣耀30S确认  2020-03-28   \n",
       "2                  小米10系列海外发布，国际版价格对标华为P40系列  2020-03-28   \n",
       "3          苹果拟为Apple Watch加入Touch ID，或采用屏下指纹  2020-03-28   \n",
       "4                 OPPO Ace2 5G入网工信部，真机照、参数曝光  2020-03-28   \n",
       "5               Windows 10用户有连不上网的情况，微软：正在解决  2020-03-28   \n",
       "6                           华为P40 系列全系真机上手体验  2020-03-27   \n",
       "7               iPhone 9 或4月上市，新款iPhone或延期发布  2020-03-27   \n",
       "8   AMD YES？AMD 锐龙7 4800H-华硕天选高性价比游戏本|大家测535  2020-03-27   \n",
       "9                       荣耀30S支持40W有线快充，打孔屏设计  2020-03-27   \n",
       "10                  一加8系列发布会时间下周公布，绿色版本渲染图曝光  2020-03-27   \n",
       "\n",
       "                                                 link  \n",
       "0   http://mp.weixin.qq.com/s?__biz=MjM5MDQ4MzU5NQ...  \n",
       "1   http://mp.weixin.qq.com/s?__biz=MjM5MDQ4MzU5NQ...  \n",
       "2   http://mp.weixin.qq.com/s?__biz=MjM5MDQ4MzU5NQ...  \n",
       "3   http://mp.weixin.qq.com/s?__biz=MjM5MDQ4MzU5NQ...  \n",
       "4   http://mp.weixin.qq.com/s?__biz=MjM5MDQ4MzU5NQ...  \n",
       "5   http://mp.weixin.qq.com/s?__biz=MjM5MDQ4MzU5NQ...  \n",
       "6   http://mp.weixin.qq.com/s?__biz=MjM5MDQ4MzU5NQ...  \n",
       "7   http://mp.weixin.qq.com/s?__biz=MjM5MDQ4MzU5NQ...  \n",
       "8   http://mp.weixin.qq.com/s?__biz=MjM5MDQ4MzU5NQ...  \n",
       "9   http://mp.weixin.qq.com/s?__biz=MjM5MDQ4MzU5NQ...  \n",
       "10  http://mp.weixin.qq.com/s?__biz=MjM5MDQ4MzU5NQ...  "
      ]
     },
     "execution_count": 46,
     "metadata": {},
     "output_type": "execute_result"
    }
   ],
   "source": [
    "df_url_out = pd.concat(l_df).reset_index(drop=True)\n",
    "df_url_out.loc[0:10]"
   ]
  },
  {
   "cell_type": "code",
   "execution_count": 47,
   "metadata": {},
   "outputs": [
    {
     "data": {
      "text/html": [
       "<div>\n",
       "<style scoped>\n",
       "    .dataframe tbody tr th:only-of-type {\n",
       "        vertical-align: middle;\n",
       "    }\n",
       "\n",
       "    .dataframe tbody tr th {\n",
       "        vertical-align: top;\n",
       "    }\n",
       "\n",
       "    .dataframe thead th {\n",
       "        text-align: right;\n",
       "    }\n",
       "</style>\n",
       "<table border=\"1\" class=\"dataframe\">\n",
       "  <thead>\n",
       "    <tr style=\"text-align: right;\">\n",
       "      <th></th>\n",
       "      <th>title</th>\n",
       "      <th>create_time</th>\n",
       "      <th>link</th>\n",
       "    </tr>\n",
       "  </thead>\n",
       "  <tbody>\n",
       "    <tr>\n",
       "      <th>4677</th>\n",
       "      <td>疑似Redmi K30渲染图曝光：垂直后摄组合</td>\n",
       "      <td>2019-11-30</td>\n",
       "      <td>http://mp.weixin.qq.com/s?__biz=MjM5MDQ4MzU5NQ...</td>\n",
       "    </tr>\n",
       "    <tr>\n",
       "      <th>4678</th>\n",
       "      <td>三星Galaxy S11+带壳渲染图：还是矩形后摄</td>\n",
       "      <td>2019-11-30</td>\n",
       "      <td>http://mp.weixin.qq.com/s?__biz=MjM5MDQ4MzU5NQ...</td>\n",
       "    </tr>\n",
       "    <tr>\n",
       "      <th>4679</th>\n",
       "      <td>中兴MiFavor10操作系统发布：适配深色模式</td>\n",
       "      <td>2019-11-30</td>\n",
       "      <td>http://mp.weixin.qq.com/s?__biz=MjM5MDQ4MzU5NQ...</td>\n",
       "    </tr>\n",
       "    <tr>\n",
       "      <th>4680</th>\n",
       "      <td>联想神秘5G新机通过3C认证，27W快充</td>\n",
       "      <td>2019-11-30</td>\n",
       "      <td>http://mp.weixin.qq.com/s?__biz=MjM5MDQ4MzU5NQ...</td>\n",
       "    </tr>\n",
       "    <tr>\n",
       "      <th>4681</th>\n",
       "      <td>小米发布内部信 宣布了最新高管任命</td>\n",
       "      <td>2019-11-30</td>\n",
       "      <td>http://mp.weixin.qq.com/s?__biz=MjM5MDQ4MzU5NQ...</td>\n",
       "    </tr>\n",
       "  </tbody>\n",
       "</table>\n",
       "</div>"
      ],
      "text/plain": [
       "                          title create_time  \\\n",
       "4677    疑似Redmi K30渲染图曝光：垂直后摄组合  2019-11-30   \n",
       "4678  三星Galaxy S11+带壳渲染图：还是矩形后摄  2019-11-30   \n",
       "4679   中兴MiFavor10操作系统发布：适配深色模式  2019-11-30   \n",
       "4680       联想神秘5G新机通过3C认证，27W快充  2019-11-30   \n",
       "4681          小米发布内部信 宣布了最新高管任命  2019-11-30   \n",
       "\n",
       "                                                   link  \n",
       "4677  http://mp.weixin.qq.com/s?__biz=MjM5MDQ4MzU5NQ...  \n",
       "4678  http://mp.weixin.qq.com/s?__biz=MjM5MDQ4MzU5NQ...  \n",
       "4679  http://mp.weixin.qq.com/s?__biz=MjM5MDQ4MzU5NQ...  \n",
       "4680  http://mp.weixin.qq.com/s?__biz=MjM5MDQ4MzU5NQ...  \n",
       "4681  http://mp.weixin.qq.com/s?__biz=MjM5MDQ4MzU5NQ...  "
      ]
     },
     "execution_count": 47,
     "metadata": {},
     "output_type": "execute_result"
    }
   ],
   "source": [
    "df_url_out.tail(5)"
   ]
  },
  {
   "cell_type": "code",
   "execution_count": 48,
   "metadata": {},
   "outputs": [
    {
     "data": {
      "text/html": [
       "<div>\n",
       "<style scoped>\n",
       "    .dataframe tbody tr th:only-of-type {\n",
       "        vertical-align: middle;\n",
       "    }\n",
       "\n",
       "    .dataframe tbody tr th {\n",
       "        vertical-align: top;\n",
       "    }\n",
       "\n",
       "    .dataframe thead th {\n",
       "        text-align: right;\n",
       "    }\n",
       "</style>\n",
       "<table border=\"1\" class=\"dataframe\">\n",
       "  <thead>\n",
       "    <tr style=\"text-align: right;\">\n",
       "      <th></th>\n",
       "      <th>title</th>\n",
       "      <th>create_time</th>\n",
       "      <th>link</th>\n",
       "    </tr>\n",
       "    <tr>\n",
       "      <th>value</th>\n",
       "      <th></th>\n",
       "      <th></th>\n",
       "      <th></th>\n",
       "    </tr>\n",
       "  </thead>\n",
       "  <tbody>\n",
       "    <tr>\n",
       "      <th>0</th>\n",
       "      <td>2月全球手机市场份额排名，三星第一、苹果第二、华为远超预期</td>\n",
       "      <td>2020-03-28</td>\n",
       "      <td>http://mp.weixin.qq.com/s?__biz=MjM5MDQ4MzU5NQ...</td>\n",
       "    </tr>\n",
       "    <tr>\n",
       "      <th>1</th>\n",
       "      <td>打孔屏+矩形后摄，首发麒麟820，荣耀30S确认</td>\n",
       "      <td>2020-03-28</td>\n",
       "      <td>http://mp.weixin.qq.com/s?__biz=MjM5MDQ4MzU5NQ...</td>\n",
       "    </tr>\n",
       "    <tr>\n",
       "      <th>2</th>\n",
       "      <td>小米10系列海外发布，国际版价格对标华为P40系列</td>\n",
       "      <td>2020-03-28</td>\n",
       "      <td>http://mp.weixin.qq.com/s?__biz=MjM5MDQ4MzU5NQ...</td>\n",
       "    </tr>\n",
       "    <tr>\n",
       "      <th>3</th>\n",
       "      <td>苹果拟为Apple Watch加入Touch ID，或采用屏下指纹</td>\n",
       "      <td>2020-03-28</td>\n",
       "      <td>http://mp.weixin.qq.com/s?__biz=MjM5MDQ4MzU5NQ...</td>\n",
       "    </tr>\n",
       "    <tr>\n",
       "      <th>4</th>\n",
       "      <td>OPPO Ace2 5G入网工信部，真机照、参数曝光</td>\n",
       "      <td>2020-03-28</td>\n",
       "      <td>http://mp.weixin.qq.com/s?__biz=MjM5MDQ4MzU5NQ...</td>\n",
       "    </tr>\n",
       "    <tr>\n",
       "      <th>...</th>\n",
       "      <td>...</td>\n",
       "      <td>...</td>\n",
       "      <td>...</td>\n",
       "    </tr>\n",
       "    <tr>\n",
       "      <th>4677</th>\n",
       "      <td>疑似Redmi K30渲染图曝光：垂直后摄组合</td>\n",
       "      <td>2019-11-30</td>\n",
       "      <td>http://mp.weixin.qq.com/s?__biz=MjM5MDQ4MzU5NQ...</td>\n",
       "    </tr>\n",
       "    <tr>\n",
       "      <th>4678</th>\n",
       "      <td>三星Galaxy S11+带壳渲染图：还是矩形后摄</td>\n",
       "      <td>2019-11-30</td>\n",
       "      <td>http://mp.weixin.qq.com/s?__biz=MjM5MDQ4MzU5NQ...</td>\n",
       "    </tr>\n",
       "    <tr>\n",
       "      <th>4679</th>\n",
       "      <td>中兴MiFavor10操作系统发布：适配深色模式</td>\n",
       "      <td>2019-11-30</td>\n",
       "      <td>http://mp.weixin.qq.com/s?__biz=MjM5MDQ4MzU5NQ...</td>\n",
       "    </tr>\n",
       "    <tr>\n",
       "      <th>4680</th>\n",
       "      <td>联想神秘5G新机通过3C认证，27W快充</td>\n",
       "      <td>2019-11-30</td>\n",
       "      <td>http://mp.weixin.qq.com/s?__biz=MjM5MDQ4MzU5NQ...</td>\n",
       "    </tr>\n",
       "    <tr>\n",
       "      <th>4681</th>\n",
       "      <td>小米发布内部信 宣布了最新高管任命</td>\n",
       "      <td>2019-11-30</td>\n",
       "      <td>http://mp.weixin.qq.com/s?__biz=MjM5MDQ4MzU5NQ...</td>\n",
       "    </tr>\n",
       "  </tbody>\n",
       "</table>\n",
       "<p>4331 rows × 3 columns</p>\n",
       "</div>"
      ],
      "text/plain": [
       "                                   title create_time  \\\n",
       "value                                                  \n",
       "0          2月全球手机市场份额排名，三星第一、苹果第二、华为远超预期  2020-03-28   \n",
       "1               打孔屏+矩形后摄，首发麒麟820，荣耀30S确认  2020-03-28   \n",
       "2              小米10系列海外发布，国际版价格对标华为P40系列  2020-03-28   \n",
       "3      苹果拟为Apple Watch加入Touch ID，或采用屏下指纹  2020-03-28   \n",
       "4             OPPO Ace2 5G入网工信部，真机照、参数曝光  2020-03-28   \n",
       "...                                  ...         ...   \n",
       "4677             疑似Redmi K30渲染图曝光：垂直后摄组合  2019-11-30   \n",
       "4678           三星Galaxy S11+带壳渲染图：还是矩形后摄  2019-11-30   \n",
       "4679            中兴MiFavor10操作系统发布：适配深色模式  2019-11-30   \n",
       "4680                联想神秘5G新机通过3C认证，27W快充  2019-11-30   \n",
       "4681                   小米发布内部信 宣布了最新高管任命  2019-11-30   \n",
       "\n",
       "                                                    link  \n",
       "value                                                     \n",
       "0      http://mp.weixin.qq.com/s?__biz=MjM5MDQ4MzU5NQ...  \n",
       "1      http://mp.weixin.qq.com/s?__biz=MjM5MDQ4MzU5NQ...  \n",
       "2      http://mp.weixin.qq.com/s?__biz=MjM5MDQ4MzU5NQ...  \n",
       "3      http://mp.weixin.qq.com/s?__biz=MjM5MDQ4MzU5NQ...  \n",
       "4      http://mp.weixin.qq.com/s?__biz=MjM5MDQ4MzU5NQ...  \n",
       "...                                                  ...  \n",
       "4677   http://mp.weixin.qq.com/s?__biz=MjM5MDQ4MzU5NQ...  \n",
       "4678   http://mp.weixin.qq.com/s?__biz=MjM5MDQ4MzU5NQ...  \n",
       "4679   http://mp.weixin.qq.com/s?__biz=MjM5MDQ4MzU5NQ...  \n",
       "4680   http://mp.weixin.qq.com/s?__biz=MjM5MDQ4MzU5NQ...  \n",
       "4681   http://mp.weixin.qq.com/s?__biz=MjM5MDQ4MzU5NQ...  \n",
       "\n",
       "[4331 rows x 3 columns]"
      ]
     },
     "execution_count": 48,
     "metadata": {},
     "output_type": "execute_result"
    }
   ],
   "source": [
    "# tagging 标记\n",
    "tagging_list = [\"\",\"马化腾\", \"腾讯\", \"微众银行\",\"腾讯复星\",\"腾讯风控\",\"腾讯支付\",\"WeChat\",\"We Remit\",\\\n",
    "                \"公益日\",\"红包\",\\\n",
    "                \"腾讯财付通\",\"鹅厂\",\"QQ钱包\",\"QQ红包\",\"QQ\",\\\n",
    "                \"只有一\",\"大咖\",\"听说\",\"图片\",\"照片\",\"小编\",\\\n",
    "                \"洗钱\", \"黑产\",\"被骗\",\"腾讯安全课\",\"诈骗\", \"炒股\",\"神秘兼职\",\"神秘组织\",\\\n",
    "                \"财付通\", \"品牌\",\\\n",
    "                \"收款\",\\\n",
    "                \"报告\",\\\n",
    "                \"银行卡\",\"理财\",\"选股\",\"发票\",\"基金\",\\\n",
    "                \"区块链\",\"金融云\",\"O2O\",\"农产品\",\"家乡\",\\\n",
    "                \"数据\", \"数据赋能\", \"智能\", \"数字孪生\", \"智慧大脑\",\\\n",
    "                \"出行\",\"乘车\",\"公交\",\"乘车码\", \"智慧地铁\",\\\n",
    "                \"高峰论坛\", \"智库\",\\\n",
    "                \"央行\",\"新规\", \\\n",
    "                \"微信\", \"微信支付\", \"跨境支付\", \"移动支付\",\"非银行支付\",\"电子支付\",\\\n",
    "                \"互联网金融\", \"金融科技\",\"互联网＋\",\"互联网+金融\",\"普惠金融\",\"虚拟银行\",\\\n",
    "                \"开放\",\"生态\",\"复杂\",\"互联网思维\",\"全球合作伙伴\",\\\n",
    "                \"联合国\", \"城市\", \"粤港澳大湾区\", \"平台\", \"可持续发展\", \"未来\", \"绿色\",\\\n",
    "                \"医护\",\"防护服\",\"小时\",\"武汉\",\"危机\",\"新冠肺炎\", \"疫\", \"疫情\", \"复工\",\"停课\",\"宅经济\",\\\n",
    "                \"基建\",\"新基建\"] #overwritable\n",
    "\n",
    "v_v_list = []\n",
    "\n",
    "for tag in tagging_list:\n",
    "    index_list = df_url_out [ df_url_out.title.str.contains(tag) ].index.tolist()\n",
    "    v_v_pairs = pd.DataFrame({tag:index_list}).melt().set_index(\"value\")\n",
    "    v_v_list.append(v_v_pairs)\n",
    "\n",
    "df_cat = v_v_list[0]\n",
    "for d in v_v_list:\n",
    "    df_cat.update(d)\n",
    "    \n",
    "# 尚未标记内容\n",
    "df_url_out.loc [ df_cat.query('variable==\"\"').index ]"
   ]
  },
  {
   "cell_type": "raw",
   "metadata": {},
   "source": [
    "df_url_out.loc[53].link"
   ]
  },
  {
   "cell_type": "code",
   "execution_count": 49,
   "metadata": {},
   "outputs": [
    {
     "data": {
      "text/html": [
       "<div>\n",
       "<style scoped>\n",
       "    .dataframe tbody tr th:only-of-type {\n",
       "        vertical-align: middle;\n",
       "    }\n",
       "\n",
       "    .dataframe tbody tr th {\n",
       "        vertical-align: top;\n",
       "    }\n",
       "\n",
       "    .dataframe thead th {\n",
       "        text-align: right;\n",
       "    }\n",
       "</style>\n",
       "<table border=\"1\" class=\"dataframe\">\n",
       "  <thead>\n",
       "    <tr style=\"text-align: right;\">\n",
       "      <th></th>\n",
       "      <th>title</th>\n",
       "      <th>create_time</th>\n",
       "      <th>link</th>\n",
       "    </tr>\n",
       "  </thead>\n",
       "  <tbody>\n",
       "    <tr>\n",
       "      <th>364</th>\n",
       "      <td>2月全球手机市场份额排名，三星第一、苹果第二、华为远超预期</td>\n",
       "      <td>2020-03-28</td>\n",
       "      <td>http://mp.weixin.qq.com/s?__biz=MjM5MDQ4MzU5NQ...</td>\n",
       "    </tr>\n",
       "    <tr>\n",
       "      <th>365</th>\n",
       "      <td>打孔屏+矩形后摄，首发麒麟820，荣耀30S确认</td>\n",
       "      <td>2020-03-28</td>\n",
       "      <td>http://mp.weixin.qq.com/s?__biz=MjM5MDQ4MzU5NQ...</td>\n",
       "    </tr>\n",
       "    <tr>\n",
       "      <th>366</th>\n",
       "      <td>小米10系列海外发布，国际版价格对标华为P40系列</td>\n",
       "      <td>2020-03-28</td>\n",
       "      <td>http://mp.weixin.qq.com/s?__biz=MjM5MDQ4MzU5NQ...</td>\n",
       "    </tr>\n",
       "    <tr>\n",
       "      <th>367</th>\n",
       "      <td>苹果拟为Apple Watch加入Touch ID，或采用屏下指纹</td>\n",
       "      <td>2020-03-28</td>\n",
       "      <td>http://mp.weixin.qq.com/s?__biz=MjM5MDQ4MzU5NQ...</td>\n",
       "    </tr>\n",
       "    <tr>\n",
       "      <th>368</th>\n",
       "      <td>OPPO Ace2 5G入网工信部，真机照、参数曝光</td>\n",
       "      <td>2020-03-28</td>\n",
       "      <td>http://mp.weixin.qq.com/s?__biz=MjM5MDQ4MzU5NQ...</td>\n",
       "    </tr>\n",
       "    <tr>\n",
       "      <th>...</th>\n",
       "      <td>...</td>\n",
       "      <td>...</td>\n",
       "      <td>...</td>\n",
       "    </tr>\n",
       "    <tr>\n",
       "      <th>4677</th>\n",
       "      <td>疑似Redmi K30渲染图曝光：垂直后摄组合</td>\n",
       "      <td>2019-11-30</td>\n",
       "      <td>http://mp.weixin.qq.com/s?__biz=MjM5MDQ4MzU5NQ...</td>\n",
       "    </tr>\n",
       "    <tr>\n",
       "      <th>4678</th>\n",
       "      <td>三星Galaxy S11+带壳渲染图：还是矩形后摄</td>\n",
       "      <td>2019-11-30</td>\n",
       "      <td>http://mp.weixin.qq.com/s?__biz=MjM5MDQ4MzU5NQ...</td>\n",
       "    </tr>\n",
       "    <tr>\n",
       "      <th>4679</th>\n",
       "      <td>中兴MiFavor10操作系统发布：适配深色模式</td>\n",
       "      <td>2019-11-30</td>\n",
       "      <td>http://mp.weixin.qq.com/s?__biz=MjM5MDQ4MzU5NQ...</td>\n",
       "    </tr>\n",
       "    <tr>\n",
       "      <th>4680</th>\n",
       "      <td>联想神秘5G新机通过3C认证，27W快充</td>\n",
       "      <td>2019-11-30</td>\n",
       "      <td>http://mp.weixin.qq.com/s?__biz=MjM5MDQ4MzU5NQ...</td>\n",
       "    </tr>\n",
       "    <tr>\n",
       "      <th>4681</th>\n",
       "      <td>小米发布内部信 宣布了最新高管任命</td>\n",
       "      <td>2019-11-30</td>\n",
       "      <td>http://mp.weixin.qq.com/s?__biz=MjM5MDQ4MzU5NQ...</td>\n",
       "    </tr>\n",
       "  </tbody>\n",
       "</table>\n",
       "<p>3543 rows × 3 columns</p>\n",
       "</div>"
      ],
      "text/plain": [
       "                                  title create_time  \\\n",
       "364       2月全球手机市场份额排名，三星第一、苹果第二、华为远超预期  2020-03-28   \n",
       "365            打孔屏+矩形后摄，首发麒麟820，荣耀30S确认  2020-03-28   \n",
       "366           小米10系列海外发布，国际版价格对标华为P40系列  2020-03-28   \n",
       "367   苹果拟为Apple Watch加入Touch ID，或采用屏下指纹  2020-03-28   \n",
       "368          OPPO Ace2 5G入网工信部，真机照、参数曝光  2020-03-28   \n",
       "...                                 ...         ...   \n",
       "4677            疑似Redmi K30渲染图曝光：垂直后摄组合  2019-11-30   \n",
       "4678          三星Galaxy S11+带壳渲染图：还是矩形后摄  2019-11-30   \n",
       "4679           中兴MiFavor10操作系统发布：适配深色模式  2019-11-30   \n",
       "4680               联想神秘5G新机通过3C认证，27W快充  2019-11-30   \n",
       "4681                  小米发布内部信 宣布了最新高管任命  2019-11-30   \n",
       "\n",
       "                                                   link  \n",
       "364   http://mp.weixin.qq.com/s?__biz=MjM5MDQ4MzU5NQ...  \n",
       "365   http://mp.weixin.qq.com/s?__biz=MjM5MDQ4MzU5NQ...  \n",
       "366   http://mp.weixin.qq.com/s?__biz=MjM5MDQ4MzU5NQ...  \n",
       "367   http://mp.weixin.qq.com/s?__biz=MjM5MDQ4MzU5NQ...  \n",
       "368   http://mp.weixin.qq.com/s?__biz=MjM5MDQ4MzU5NQ...  \n",
       "...                                                 ...  \n",
       "4677  http://mp.weixin.qq.com/s?__biz=MjM5MDQ4MzU5NQ...  \n",
       "4678  http://mp.weixin.qq.com/s?__biz=MjM5MDQ4MzU5NQ...  \n",
       "4679  http://mp.weixin.qq.com/s?__biz=MjM5MDQ4MzU5NQ...  \n",
       "4680  http://mp.weixin.qq.com/s?__biz=MjM5MDQ4MzU5NQ...  \n",
       "4681  http://mp.weixin.qq.com/s?__biz=MjM5MDQ4MzU5NQ...  \n",
       "\n",
       "[3543 rows x 3 columns]"
      ]
     },
     "execution_count": 49,
     "metadata": {},
     "output_type": "execute_result"
    }
   ],
   "source": [
    "df_url_out[df_url_out.duplicated()]"
   ]
  },
  {
   "cell_type": "code",
   "execution_count": 50,
   "metadata": {},
   "outputs": [
    {
     "data": {
      "text/html": [
       "<div>\n",
       "<style scoped>\n",
       "    .dataframe tbody tr th:only-of-type {\n",
       "        vertical-align: middle;\n",
       "    }\n",
       "\n",
       "    .dataframe tbody tr th {\n",
       "        vertical-align: top;\n",
       "    }\n",
       "\n",
       "    .dataframe thead th {\n",
       "        text-align: right;\n",
       "    }\n",
       "</style>\n",
       "<table border=\"1\" class=\"dataframe\">\n",
       "  <thead>\n",
       "    <tr style=\"text-align: right;\">\n",
       "      <th></th>\n",
       "      <th>title</th>\n",
       "      <th>create_time</th>\n",
       "      <th>link</th>\n",
       "    </tr>\n",
       "  </thead>\n",
       "  <tbody>\n",
       "    <tr>\n",
       "      <th>0</th>\n",
       "      <td>2月全球手机市场份额排名，三星第一、苹果第二、华为远超预期</td>\n",
       "      <td>2020-03-28</td>\n",
       "      <td>http://mp.weixin.qq.com/s?__biz=MjM5MDQ4MzU5NQ...</td>\n",
       "    </tr>\n",
       "    <tr>\n",
       "      <th>1</th>\n",
       "      <td>打孔屏+矩形后摄，首发麒麟820，荣耀30S确认</td>\n",
       "      <td>2020-03-28</td>\n",
       "      <td>http://mp.weixin.qq.com/s?__biz=MjM5MDQ4MzU5NQ...</td>\n",
       "    </tr>\n",
       "    <tr>\n",
       "      <th>2</th>\n",
       "      <td>小米10系列海外发布，国际版价格对标华为P40系列</td>\n",
       "      <td>2020-03-28</td>\n",
       "      <td>http://mp.weixin.qq.com/s?__biz=MjM5MDQ4MzU5NQ...</td>\n",
       "    </tr>\n",
       "    <tr>\n",
       "      <th>3</th>\n",
       "      <td>苹果拟为Apple Watch加入Touch ID，或采用屏下指纹</td>\n",
       "      <td>2020-03-28</td>\n",
       "      <td>http://mp.weixin.qq.com/s?__biz=MjM5MDQ4MzU5NQ...</td>\n",
       "    </tr>\n",
       "    <tr>\n",
       "      <th>4</th>\n",
       "      <td>OPPO Ace2 5G入网工信部，真机照、参数曝光</td>\n",
       "      <td>2020-03-28</td>\n",
       "      <td>http://mp.weixin.qq.com/s?__biz=MjM5MDQ4MzU5NQ...</td>\n",
       "    </tr>\n",
       "    <tr>\n",
       "      <th>...</th>\n",
       "      <td>...</td>\n",
       "      <td>...</td>\n",
       "      <td>...</td>\n",
       "    </tr>\n",
       "    <tr>\n",
       "      <th>1167</th>\n",
       "      <td>疑似Redmi K30渲染图曝光：垂直后摄组合</td>\n",
       "      <td>2019-11-30</td>\n",
       "      <td>http://mp.weixin.qq.com/s?__biz=MjM5MDQ4MzU5NQ...</td>\n",
       "    </tr>\n",
       "    <tr>\n",
       "      <th>1168</th>\n",
       "      <td>三星Galaxy S11+带壳渲染图：还是矩形后摄</td>\n",
       "      <td>2019-11-30</td>\n",
       "      <td>http://mp.weixin.qq.com/s?__biz=MjM5MDQ4MzU5NQ...</td>\n",
       "    </tr>\n",
       "    <tr>\n",
       "      <th>1169</th>\n",
       "      <td>中兴MiFavor10操作系统发布：适配深色模式</td>\n",
       "      <td>2019-11-30</td>\n",
       "      <td>http://mp.weixin.qq.com/s?__biz=MjM5MDQ4MzU5NQ...</td>\n",
       "    </tr>\n",
       "    <tr>\n",
       "      <th>1170</th>\n",
       "      <td>联想神秘5G新机通过3C认证，27W快充</td>\n",
       "      <td>2019-11-30</td>\n",
       "      <td>http://mp.weixin.qq.com/s?__biz=MjM5MDQ4MzU5NQ...</td>\n",
       "    </tr>\n",
       "    <tr>\n",
       "      <th>1171</th>\n",
       "      <td>小米发布内部信 宣布了最新高管任命</td>\n",
       "      <td>2019-11-30</td>\n",
       "      <td>http://mp.weixin.qq.com/s?__biz=MjM5MDQ4MzU5NQ...</td>\n",
       "    </tr>\n",
       "  </tbody>\n",
       "</table>\n",
       "<p>1139 rows × 3 columns</p>\n",
       "</div>"
      ],
      "text/plain": [
       "                                  title create_time  \\\n",
       "0         2月全球手机市场份额排名，三星第一、苹果第二、华为远超预期  2020-03-28   \n",
       "1              打孔屏+矩形后摄，首发麒麟820，荣耀30S确认  2020-03-28   \n",
       "2             小米10系列海外发布，国际版价格对标华为P40系列  2020-03-28   \n",
       "3     苹果拟为Apple Watch加入Touch ID，或采用屏下指纹  2020-03-28   \n",
       "4            OPPO Ace2 5G入网工信部，真机照、参数曝光  2020-03-28   \n",
       "...                                 ...         ...   \n",
       "1167            疑似Redmi K30渲染图曝光：垂直后摄组合  2019-11-30   \n",
       "1168          三星Galaxy S11+带壳渲染图：还是矩形后摄  2019-11-30   \n",
       "1169           中兴MiFavor10操作系统发布：适配深色模式  2019-11-30   \n",
       "1170               联想神秘5G新机通过3C认证，27W快充  2019-11-30   \n",
       "1171                  小米发布内部信 宣布了最新高管任命  2019-11-30   \n",
       "\n",
       "                                                   link  \n",
       "0     http://mp.weixin.qq.com/s?__biz=MjM5MDQ4MzU5NQ...  \n",
       "1     http://mp.weixin.qq.com/s?__biz=MjM5MDQ4MzU5NQ...  \n",
       "2     http://mp.weixin.qq.com/s?__biz=MjM5MDQ4MzU5NQ...  \n",
       "3     http://mp.weixin.qq.com/s?__biz=MjM5MDQ4MzU5NQ...  \n",
       "4     http://mp.weixin.qq.com/s?__biz=MjM5MDQ4MzU5NQ...  \n",
       "...                                                 ...  \n",
       "1167  http://mp.weixin.qq.com/s?__biz=MjM5MDQ4MzU5NQ...  \n",
       "1168  http://mp.weixin.qq.com/s?__biz=MjM5MDQ4MzU5NQ...  \n",
       "1169  http://mp.weixin.qq.com/s?__biz=MjM5MDQ4MzU5NQ...  \n",
       "1170  http://mp.weixin.qq.com/s?__biz=MjM5MDQ4MzU5NQ...  \n",
       "1171  http://mp.weixin.qq.com/s?__biz=MjM5MDQ4MzU5NQ...  \n",
       "\n",
       "[1139 rows x 3 columns]"
      ]
     },
     "execution_count": 50,
     "metadata": {},
     "output_type": "execute_result"
    }
   ],
   "source": [
    "df_url_out[~df_url_out.duplicated()]"
   ]
  },
  {
   "cell_type": "code",
   "execution_count": 51,
   "metadata": {},
   "outputs": [
    {
     "data": {
      "text/html": [
       "<div>\n",
       "<style scoped>\n",
       "    .dataframe tbody tr th:only-of-type {\n",
       "        vertical-align: middle;\n",
       "    }\n",
       "\n",
       "    .dataframe tbody tr th {\n",
       "        vertical-align: top;\n",
       "    }\n",
       "\n",
       "    .dataframe thead th {\n",
       "        text-align: right;\n",
       "    }\n",
       "</style>\n",
       "<table border=\"1\" class=\"dataframe\">\n",
       "  <thead>\n",
       "    <tr style=\"text-align: right;\">\n",
       "      <th></th>\n",
       "      <th>title</th>\n",
       "      <th>create_time</th>\n",
       "      <th>link</th>\n",
       "      <th>variable</th>\n",
       "    </tr>\n",
       "  </thead>\n",
       "  <tbody>\n",
       "    <tr>\n",
       "      <th>0</th>\n",
       "      <td>2月全球手机市场份额排名，三星第一、苹果第二、华为远超预期</td>\n",
       "      <td>2020-03-28</td>\n",
       "      <td>http://mp.weixin.qq.com/s?__biz=MjM5MDQ4MzU5NQ...</td>\n",
       "      <td>无法分类</td>\n",
       "    </tr>\n",
       "    <tr>\n",
       "      <th>1</th>\n",
       "      <td>打孔屏+矩形后摄，首发麒麟820，荣耀30S确认</td>\n",
       "      <td>2020-03-28</td>\n",
       "      <td>http://mp.weixin.qq.com/s?__biz=MjM5MDQ4MzU5NQ...</td>\n",
       "      <td>无法分类</td>\n",
       "    </tr>\n",
       "    <tr>\n",
       "      <th>2</th>\n",
       "      <td>小米10系列海外发布，国际版价格对标华为P40系列</td>\n",
       "      <td>2020-03-28</td>\n",
       "      <td>http://mp.weixin.qq.com/s?__biz=MjM5MDQ4MzU5NQ...</td>\n",
       "      <td>无法分类</td>\n",
       "    </tr>\n",
       "    <tr>\n",
       "      <th>3</th>\n",
       "      <td>苹果拟为Apple Watch加入Touch ID，或采用屏下指纹</td>\n",
       "      <td>2020-03-28</td>\n",
       "      <td>http://mp.weixin.qq.com/s?__biz=MjM5MDQ4MzU5NQ...</td>\n",
       "      <td>无法分类</td>\n",
       "    </tr>\n",
       "    <tr>\n",
       "      <th>4</th>\n",
       "      <td>OPPO Ace2 5G入网工信部，真机照、参数曝光</td>\n",
       "      <td>2020-03-28</td>\n",
       "      <td>http://mp.weixin.qq.com/s?__biz=MjM5MDQ4MzU5NQ...</td>\n",
       "      <td>无法分类</td>\n",
       "    </tr>\n",
       "    <tr>\n",
       "      <th>...</th>\n",
       "      <td>...</td>\n",
       "      <td>...</td>\n",
       "      <td>...</td>\n",
       "      <td>...</td>\n",
       "    </tr>\n",
       "    <tr>\n",
       "      <th>4677</th>\n",
       "      <td>疑似Redmi K30渲染图曝光：垂直后摄组合</td>\n",
       "      <td>2019-11-30</td>\n",
       "      <td>http://mp.weixin.qq.com/s?__biz=MjM5MDQ4MzU5NQ...</td>\n",
       "      <td>无法分类</td>\n",
       "    </tr>\n",
       "    <tr>\n",
       "      <th>4678</th>\n",
       "      <td>三星Galaxy S11+带壳渲染图：还是矩形后摄</td>\n",
       "      <td>2019-11-30</td>\n",
       "      <td>http://mp.weixin.qq.com/s?__biz=MjM5MDQ4MzU5NQ...</td>\n",
       "      <td>无法分类</td>\n",
       "    </tr>\n",
       "    <tr>\n",
       "      <th>4679</th>\n",
       "      <td>中兴MiFavor10操作系统发布：适配深色模式</td>\n",
       "      <td>2019-11-30</td>\n",
       "      <td>http://mp.weixin.qq.com/s?__biz=MjM5MDQ4MzU5NQ...</td>\n",
       "      <td>无法分类</td>\n",
       "    </tr>\n",
       "    <tr>\n",
       "      <th>4680</th>\n",
       "      <td>联想神秘5G新机通过3C认证，27W快充</td>\n",
       "      <td>2019-11-30</td>\n",
       "      <td>http://mp.weixin.qq.com/s?__biz=MjM5MDQ4MzU5NQ...</td>\n",
       "      <td>无法分类</td>\n",
       "    </tr>\n",
       "    <tr>\n",
       "      <th>4681</th>\n",
       "      <td>小米发布内部信 宣布了最新高管任命</td>\n",
       "      <td>2019-11-30</td>\n",
       "      <td>http://mp.weixin.qq.com/s?__biz=MjM5MDQ4MzU5NQ...</td>\n",
       "      <td>无法分类</td>\n",
       "    </tr>\n",
       "  </tbody>\n",
       "</table>\n",
       "<p>4682 rows × 4 columns</p>\n",
       "</div>"
      ],
      "text/plain": [
       "                                  title create_time  \\\n",
       "0         2月全球手机市场份额排名，三星第一、苹果第二、华为远超预期  2020-03-28   \n",
       "1              打孔屏+矩形后摄，首发麒麟820，荣耀30S确认  2020-03-28   \n",
       "2             小米10系列海外发布，国际版价格对标华为P40系列  2020-03-28   \n",
       "3     苹果拟为Apple Watch加入Touch ID，或采用屏下指纹  2020-03-28   \n",
       "4            OPPO Ace2 5G入网工信部，真机照、参数曝光  2020-03-28   \n",
       "...                                 ...         ...   \n",
       "4677            疑似Redmi K30渲染图曝光：垂直后摄组合  2019-11-30   \n",
       "4678          三星Galaxy S11+带壳渲染图：还是矩形后摄  2019-11-30   \n",
       "4679           中兴MiFavor10操作系统发布：适配深色模式  2019-11-30   \n",
       "4680               联想神秘5G新机通过3C认证，27W快充  2019-11-30   \n",
       "4681                  小米发布内部信 宣布了最新高管任命  2019-11-30   \n",
       "\n",
       "                                                   link variable  \n",
       "0     http://mp.weixin.qq.com/s?__biz=MjM5MDQ4MzU5NQ...     无法分类  \n",
       "1     http://mp.weixin.qq.com/s?__biz=MjM5MDQ4MzU5NQ...     无法分类  \n",
       "2     http://mp.weixin.qq.com/s?__biz=MjM5MDQ4MzU5NQ...     无法分类  \n",
       "3     http://mp.weixin.qq.com/s?__biz=MjM5MDQ4MzU5NQ...     无法分类  \n",
       "4     http://mp.weixin.qq.com/s?__biz=MjM5MDQ4MzU5NQ...     无法分类  \n",
       "...                                                 ...      ...  \n",
       "4677  http://mp.weixin.qq.com/s?__biz=MjM5MDQ4MzU5NQ...     无法分类  \n",
       "4678  http://mp.weixin.qq.com/s?__biz=MjM5MDQ4MzU5NQ...     无法分类  \n",
       "4679  http://mp.weixin.qq.com/s?__biz=MjM5MDQ4MzU5NQ...     无法分类  \n",
       "4680  http://mp.weixin.qq.com/s?__biz=MjM5MDQ4MzU5NQ...     无法分类  \n",
       "4681  http://mp.weixin.qq.com/s?__biz=MjM5MDQ4MzU5NQ...     无法分类  \n",
       "\n",
       "[4682 rows x 4 columns]"
      ]
     },
     "execution_count": 51,
     "metadata": {},
     "output_type": "execute_result"
    }
   ],
   "source": [
    "df_o = df_url_out.join(df_cat).replace(\"\", np.nan).fillna(\"无法分类\")\n",
    "df_o"
   ]
  },
  {
   "cell_type": "code",
   "execution_count": 52,
   "metadata": {},
   "outputs": [
    {
     "data": {
      "text/html": [
       "<div>\n",
       "<style scoped>\n",
       "    .dataframe tbody tr th:only-of-type {\n",
       "        vertical-align: middle;\n",
       "    }\n",
       "\n",
       "    .dataframe tbody tr th {\n",
       "        vertical-align: top;\n",
       "    }\n",
       "\n",
       "    .dataframe thead th {\n",
       "        text-align: right;\n",
       "    }\n",
       "</style>\n",
       "<table border=\"1\" class=\"dataframe\">\n",
       "  <thead>\n",
       "    <tr style=\"text-align: right;\">\n",
       "      <th></th>\n",
       "      <th>title</th>\n",
       "      <th>create_time</th>\n",
       "      <th>link</th>\n",
       "      <th>variable</th>\n",
       "    </tr>\n",
       "  </thead>\n",
       "  <tbody>\n",
       "    <tr>\n",
       "      <th>0</th>\n",
       "      <td>2月全球手机市场份额排名，三星第一、苹果第二、华为远超预期</td>\n",
       "      <td>2020-03-28</td>\n",
       "      <td>http://mp.weixin.qq.com/s?__biz=MjM5MDQ4MzU5NQ...</td>\n",
       "      <td>无法分类</td>\n",
       "    </tr>\n",
       "    <tr>\n",
       "      <th>2</th>\n",
       "      <td>小米10系列海外发布，国际版价格对标华为P40系列</td>\n",
       "      <td>2020-03-28</td>\n",
       "      <td>http://mp.weixin.qq.com/s?__biz=MjM5MDQ4MzU5NQ...</td>\n",
       "      <td>无法分类</td>\n",
       "    </tr>\n",
       "    <tr>\n",
       "      <th>6</th>\n",
       "      <td>华为P40 系列全系真机上手体验</td>\n",
       "      <td>2020-03-27</td>\n",
       "      <td>http://mp.weixin.qq.com/s?__biz=MjM5MDQ4MzU5NQ...</td>\n",
       "      <td>无法分类</td>\n",
       "    </tr>\n",
       "    <tr>\n",
       "      <th>14</th>\n",
       "      <td>华为P40系列正式发布 全新升级主摄 最高配共前后8颗摄像头</td>\n",
       "      <td>2020-03-26</td>\n",
       "      <td>http://mp.weixin.qq.com/s?__biz=MjM5MDQ4MzU5NQ...</td>\n",
       "      <td>无法分类</td>\n",
       "    </tr>\n",
       "    <tr>\n",
       "      <th>21</th>\n",
       "      <td>华为P40系列明日发布，全系列最全爆料总结</td>\n",
       "      <td>2020-03-25</td>\n",
       "      <td>http://mp.weixin.qq.com/s?__biz=MjM5MDQ4MzU5NQ...</td>\n",
       "      <td>无法分类</td>\n",
       "    </tr>\n",
       "    <tr>\n",
       "      <th>...</th>\n",
       "      <td>...</td>\n",
       "      <td>...</td>\n",
       "      <td>...</td>\n",
       "      <td>...</td>\n",
       "    </tr>\n",
       "    <tr>\n",
       "      <th>4585</th>\n",
       "      <td>华为畅享10S官宣，麒麟710F加持，发布时间确定</td>\n",
       "      <td>2019-12-02</td>\n",
       "      <td>http://mp.weixin.qq.com/s?__biz=MjM5MDQ4MzU5NQ...</td>\n",
       "      <td>无法分类</td>\n",
       "    </tr>\n",
       "    <tr>\n",
       "      <th>4615</th>\n",
       "      <td>华为nova 6官图展示：“药丸形”打孔屏</td>\n",
       "      <td>2019-12-03</td>\n",
       "      <td>http://mp.weixin.qq.com/s?__biz=MjM5MDQ4MzU5NQ...</td>\n",
       "      <td>无法分类</td>\n",
       "    </tr>\n",
       "    <tr>\n",
       "      <th>4624</th>\n",
       "      <td>华为畅享10S官宣，麒麟710F加持，发布时间确定</td>\n",
       "      <td>2019-12-02</td>\n",
       "      <td>http://mp.weixin.qq.com/s?__biz=MjM5MDQ4MzU5NQ...</td>\n",
       "      <td>无法分类</td>\n",
       "    </tr>\n",
       "    <tr>\n",
       "      <th>4654</th>\n",
       "      <td>华为nova 6官图展示：“药丸形”打孔屏</td>\n",
       "      <td>2019-12-03</td>\n",
       "      <td>http://mp.weixin.qq.com/s?__biz=MjM5MDQ4MzU5NQ...</td>\n",
       "      <td>无法分类</td>\n",
       "    </tr>\n",
       "    <tr>\n",
       "      <th>4663</th>\n",
       "      <td>华为畅享10S官宣，麒麟710F加持，发布时间确定</td>\n",
       "      <td>2019-12-02</td>\n",
       "      <td>http://mp.weixin.qq.com/s?__biz=MjM5MDQ4MzU5NQ...</td>\n",
       "      <td>无法分类</td>\n",
       "    </tr>\n",
       "  </tbody>\n",
       "</table>\n",
       "<p>287 rows × 4 columns</p>\n",
       "</div>"
      ],
      "text/plain": [
       "                               title create_time  \\\n",
       "0      2月全球手机市场份额排名，三星第一、苹果第二、华为远超预期  2020-03-28   \n",
       "2          小米10系列海外发布，国际版价格对标华为P40系列  2020-03-28   \n",
       "6                   华为P40 系列全系真机上手体验  2020-03-27   \n",
       "14    华为P40系列正式发布 全新升级主摄 最高配共前后8颗摄像头  2020-03-26   \n",
       "21             华为P40系列明日发布，全系列最全爆料总结  2020-03-25   \n",
       "...                              ...         ...   \n",
       "4585       华为畅享10S官宣，麒麟710F加持，发布时间确定  2019-12-02   \n",
       "4615           华为nova 6官图展示：“药丸形”打孔屏  2019-12-03   \n",
       "4624       华为畅享10S官宣，麒麟710F加持，发布时间确定  2019-12-02   \n",
       "4654           华为nova 6官图展示：“药丸形”打孔屏  2019-12-03   \n",
       "4663       华为畅享10S官宣，麒麟710F加持，发布时间确定  2019-12-02   \n",
       "\n",
       "                                                   link variable  \n",
       "0     http://mp.weixin.qq.com/s?__biz=MjM5MDQ4MzU5NQ...     无法分类  \n",
       "2     http://mp.weixin.qq.com/s?__biz=MjM5MDQ4MzU5NQ...     无法分类  \n",
       "6     http://mp.weixin.qq.com/s?__biz=MjM5MDQ4MzU5NQ...     无法分类  \n",
       "14    http://mp.weixin.qq.com/s?__biz=MjM5MDQ4MzU5NQ...     无法分类  \n",
       "21    http://mp.weixin.qq.com/s?__biz=MjM5MDQ4MzU5NQ...     无法分类  \n",
       "...                                                 ...      ...  \n",
       "4585  http://mp.weixin.qq.com/s?__biz=MjM5MDQ4MzU5NQ...     无法分类  \n",
       "4615  http://mp.weixin.qq.com/s?__biz=MjM5MDQ4MzU5NQ...     无法分类  \n",
       "4624  http://mp.weixin.qq.com/s?__biz=MjM5MDQ4MzU5NQ...     无法分类  \n",
       "4654  http://mp.weixin.qq.com/s?__biz=MjM5MDQ4MzU5NQ...     无法分类  \n",
       "4663  http://mp.weixin.qq.com/s?__biz=MjM5MDQ4MzU5NQ...     无法分类  \n",
       "\n",
       "[287 rows x 4 columns]"
      ]
     },
     "execution_count": 52,
     "metadata": {},
     "output_type": "execute_result"
    }
   ],
   "source": [
    "df_o[df_o.title.str.contains(\"华为\")]"
   ]
  },
  {
   "cell_type": "code",
   "execution_count": 53,
   "metadata": {},
   "outputs": [
    {
     "data": {
      "text/html": [
       "<div>\n",
       "<style scoped>\n",
       "    .dataframe tbody tr th:only-of-type {\n",
       "        vertical-align: middle;\n",
       "    }\n",
       "\n",
       "    .dataframe tbody tr th {\n",
       "        vertical-align: top;\n",
       "    }\n",
       "\n",
       "    .dataframe thead th {\n",
       "        text-align: right;\n",
       "    }\n",
       "</style>\n",
       "<table border=\"1\" class=\"dataframe\">\n",
       "  <thead>\n",
       "    <tr style=\"text-align: right;\">\n",
       "      <th></th>\n",
       "      <th>title</th>\n",
       "    </tr>\n",
       "    <tr>\n",
       "      <th>variable</th>\n",
       "      <th></th>\n",
       "    </tr>\n",
       "  </thead>\n",
       "  <tbody>\n",
       "    <tr>\n",
       "      <th>无法分类</th>\n",
       "      <td>4331</td>\n",
       "    </tr>\n",
       "    <tr>\n",
       "      <th>品牌</th>\n",
       "      <td>98</td>\n",
       "    </tr>\n",
       "    <tr>\n",
       "      <th>未来</th>\n",
       "      <td>97</td>\n",
       "    </tr>\n",
       "    <tr>\n",
       "      <th>微信</th>\n",
       "      <td>92</td>\n",
       "    </tr>\n",
       "    <tr>\n",
       "      <th>智能</th>\n",
       "      <td>24</td>\n",
       "    </tr>\n",
       "    <tr>\n",
       "      <th>平台</th>\n",
       "      <td>8</td>\n",
       "    </tr>\n",
       "    <tr>\n",
       "      <th>报告</th>\n",
       "      <td>6</td>\n",
       "    </tr>\n",
       "    <tr>\n",
       "      <th>数据</th>\n",
       "      <td>4</td>\n",
       "    </tr>\n",
       "    <tr>\n",
       "      <th>腾讯</th>\n",
       "      <td>4</td>\n",
       "    </tr>\n",
       "    <tr>\n",
       "      <th>开放</th>\n",
       "      <td>3</td>\n",
       "    </tr>\n",
       "    <tr>\n",
       "      <th>图片</th>\n",
       "      <td>3</td>\n",
       "    </tr>\n",
       "    <tr>\n",
       "      <th>绿色</th>\n",
       "      <td>3</td>\n",
       "    </tr>\n",
       "    <tr>\n",
       "      <th>疫情</th>\n",
       "      <td>2</td>\n",
       "    </tr>\n",
       "    <tr>\n",
       "      <th>新冠肺炎</th>\n",
       "      <td>1</td>\n",
       "    </tr>\n",
       "    <tr>\n",
       "      <th>基金</th>\n",
       "      <td>1</td>\n",
       "    </tr>\n",
       "    <tr>\n",
       "      <th>武汉</th>\n",
       "      <td>1</td>\n",
       "    </tr>\n",
       "    <tr>\n",
       "      <th>照片</th>\n",
       "      <td>1</td>\n",
       "    </tr>\n",
       "    <tr>\n",
       "      <th>理财</th>\n",
       "      <td>1</td>\n",
       "    </tr>\n",
       "    <tr>\n",
       "      <th>生态</th>\n",
       "      <td>1</td>\n",
       "    </tr>\n",
       "    <tr>\n",
       "      <th>危机</th>\n",
       "      <td>1</td>\n",
       "    </tr>\n",
       "  </tbody>\n",
       "</table>\n",
       "</div>"
      ],
      "text/plain": [
       "          title\n",
       "variable       \n",
       "无法分类       4331\n",
       "品牌           98\n",
       "未来           97\n",
       "微信           92\n",
       "智能           24\n",
       "平台            8\n",
       "报告            6\n",
       "数据            4\n",
       "腾讯            4\n",
       "开放            3\n",
       "图片            3\n",
       "绿色            3\n",
       "疫情            2\n",
       "新冠肺炎          1\n",
       "基金            1\n",
       "武汉            1\n",
       "照片            1\n",
       "理财            1\n",
       "生态            1\n",
       "危机            1"
      ]
     },
     "execution_count": 53,
     "metadata": {},
     "output_type": "execute_result"
    }
   ],
   "source": [
    "df_stats = df_o.groupby(by=\"variable\").agg({\"title\":\"count\"}).sort_values(by=\"title\", ascending=False)\n",
    "df_stats"
   ]
  },
  {
   "cell_type": "markdown",
   "metadata": {},
   "source": [
    "## 输出"
   ]
  },
  {
   "cell_type": "code",
   "execution_count": 54,
   "metadata": {},
   "outputs": [],
   "source": [
    "df_account.columns.name = \"rel_accounts\"\n",
    "df_o.columns.name = \"url_cat\"\n",
    "df_stats.columns.name = \"stats\"\n"
   ]
  },
  {
   "cell_type": "code",
   "execution_count": 55,
   "metadata": {},
   "outputs": [],
   "source": [
    "_df_.columns.name"
   ]
  },
  {
   "cell_type": "code",
   "execution_count": 56,
   "metadata": {},
   "outputs": [],
   "source": [
    "# Get the xlsxwriter workbook and worksheet objects.  \n",
    "with pd.ExcelWriter(fn[\"output\"][\"公众号_xlsx\"].format(公众号=公众号)) as writer:\n",
    "    workbook  = writer.book\n",
    "\n",
    "    for _df_ in [df_account, df_o, df_stats]:\n",
    "        _df_.to_excel(writer, sheet_name = _df_.columns.name)\n"
   ]
  },
  {
   "cell_type": "code",
   "execution_count": null,
   "metadata": {},
   "outputs": [],
   "source": []
  }
 ],
 "metadata": {
  "kernelspec": {
   "display_name": "Python 3",
   "language": "python",
   "name": "python3"
  },
  "language_info": {
   "codemirror_mode": {
    "name": "ipython",
    "version": 3
   },
   "file_extension": ".py",
   "mimetype": "text/x-python",
   "name": "python",
   "nbconvert_exporter": "python",
   "pygments_lexer": "ipython3",
   "version": "3.7.7"
  },
  "toc": {
   "base_numbering": 1,
   "nav_menu": {},
   "number_sections": true,
   "sideBar": true,
   "skip_h1_title": false,
   "title_cell": "Table of Contents",
   "title_sidebar": "Contents",
   "toc_cell": false,
   "toc_position": {},
   "toc_section_display": true,
   "toc_window_display": true
  }
 },
 "nbformat": 4,
 "nbformat_minor": 4
}
